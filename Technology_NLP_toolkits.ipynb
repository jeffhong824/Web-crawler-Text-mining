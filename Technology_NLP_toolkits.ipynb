{
 "cells": [
  {
   "cell_type": "markdown",
   "metadata": {},
   "source": [
    "## 常用函數"
   ]
  },
  {
   "cell_type": "code",
   "execution_count": 81,
   "metadata": {},
   "outputs": [
    {
     "name": "stdout",
     "output_type": "stream",
     "text": [
      "True\n",
      "True\n",
      "False\n",
      "False\n",
      "True\n",
      "True\n",
      "False\n",
      "False\n"
     ]
    }
   ],
   "source": [
    "''' NLP常用函数 '''\n",
    "\n",
    "s = 'AbCa'\n",
    "t = 'a'\n",
    "\n",
    "\n",
    "print(s.endswith(t))      # 测试s是否以t结尾\n",
    "print(t in s)\n",
    "print(s.islower())\n",
    "print(s.isupper())\n",
    "print(s.isalpha())       # 测试s中所有字符是否都为字母\n",
    "print(s.isalnum())        # 测试s中所有字符是否都为字母或数字\n",
    "print(s.isdigit())        # 测试s中所有字符是否都为数字\n",
    "print(s.istitle())"
   ]
  },
  {
   "cell_type": "markdown",
   "metadata": {},
   "source": [
    "## 拼寫檢查"
   ]
  },
  {
   "cell_type": "code",
   "execution_count": 3,
   "metadata": {},
   "outputs": [
    {
     "name": "stdout",
     "output_type": "stream",
     "text": [
      "ERROR: peope\n",
      "ERROR: likee\n"
     ]
    }
   ],
   "source": [
    "from enchant.checker import SpellChecker\n",
    "\n",
    "Paper = '''The human organism coexists with its microbiota in a symbiotic relationship. \n",
    "These polymicrobial communities are involved in many crucial functions, such as immunity, protection against pathogens, and metabolism of dietary compounds, thus maintaining homeostasis. \n",
    "The oral cavity and the colon, although distant anatomic regions, are both highly colonized by distinct microbiotas. However, studies indicate that oral bacteria are able to disseminate into the colon. \n",
    "This is mostly evident in conditions such as periodontitis, where specific bacteria, namely Fusobacterium nucrelatum and Porphyromonas gingivalis project a pathogenic profile. \n",
    "In the colon these bacteria can alter the composition of the residual microbiota, in the context of complex biofilms, resulting in intestinal dysbiosis. \n",
    "This orally-driven disruption promotes aberrant immune and inflammatory responses, eventually leading to colorectal cancer (CRC) tumorigenesis. \n",
    "Understanding the exact mechanisms of these interactions will yield future opportunities regarding prevention and treatment of CRC.'''\n",
    "\n",
    "Paper = \"Many peope likee to watch In the Name of People.\"\n",
    "\n",
    "\n",
    "chkr = SpellChecker(\"en_US\")\n",
    "chkr.set_text(Paper)\n",
    "for err in chkr:    \n",
    "    print (\"ERROR:\", err.word)"
   ]
  },
  {
   "cell_type": "markdown",
   "metadata": {},
   "source": [
    "## Google翻譯API"
   ]
  },
  {
   "cell_type": "code",
   "execution_count": 18,
   "metadata": {},
   "outputs": [],
   "source": [
    "from google_trans_new import google_translator  \n",
    "translator = google_translator()  "
   ]
  },
  {
   "cell_type": "code",
   "execution_count": 26,
   "metadata": {},
   "outputs": [
    {
     "name": "stdout",
     "output_type": "stream",
     "text": [
      "Raw : It's funny\n",
      "Trans : 這很有趣 \n"
     ]
    }
   ],
   "source": [
    "Sentence = \"It's funny\"\n",
    "translate_text = translator.translate(Sentence,lang_src='en,',lang_tgt='zh-tw') \n",
    "print('Raw : '+Sentence)\n",
    "print('Trans : '+translate_text)"
   ]
  },
  {
   "cell_type": "markdown",
   "metadata": {},
   "source": [
    "## 載入停用詞"
   ]
  },
  {
   "cell_type": "code",
   "execution_count": 12,
   "metadata": {},
   "outputs": [],
   "source": [
    "stop_word = []\n",
    "with open('D:/Record/NLP/停用詞/英文停用詞.txt','r',encoding='utf-8') as file :\n",
    "    for line in file:\n",
    "        stop_word.append(line.split()[0].replace('\\ufeff',''))"
   ]
  },
  {
   "cell_type": "markdown",
   "metadata": {},
   "source": [
    "## 單篇詞頻統計"
   ]
  },
  {
   "cell_type": "code",
   "execution_count": 87,
   "metadata": {},
   "outputs": [
    {
     "ename": "AttributeError",
     "evalue": "'str' object has no attribute 'concordance'",
     "output_type": "error",
     "traceback": [
      "\u001b[1;31m---------------------------------------------------------------------------\u001b[0m",
      "\u001b[1;31mAttributeError\u001b[0m                            Traceback (most recent call last)",
      "\u001b[1;32m<ipython-input-87-ff982b396282>\u001b[0m in \u001b[0;36m<module>\u001b[1;34m\u001b[0m\n\u001b[1;32m----> 1\u001b[1;33m \u001b[0mPaper\u001b[0m\u001b[1;33m.\u001b[0m\u001b[0mconcordance\u001b[0m\u001b[1;33m(\u001b[0m\u001b[1;33m)\u001b[0m\u001b[1;33m\u001b[0m\u001b[1;33m\u001b[0m\u001b[0m\n\u001b[0m",
      "\u001b[1;31mAttributeError\u001b[0m: 'str' object has no attribute 'concordance'"
     ]
    }
   ],
   "source": [
    "Paper.concordance()"
   ]
  },
  {
   "cell_type": "code",
   "execution_count": 89,
   "metadata": {},
   "outputs": [
    {
     "data": {
      "text/plain": [
       "FreqDist({'the': 7, 'in': 5, 'and': 5, 'of': 5, 'are': 3, 'The': 2, 'a': 2, 'such': 2, 'as': 2, 'oral': 2, ...})"
      ]
     },
     "execution_count": 89,
     "metadata": {},
     "output_type": "execute_result"
    }
   ],
   "source": [
    "FreqDist(words)"
   ]
  },
  {
   "cell_type": "code",
   "execution_count": 84,
   "metadata": {
    "collapsed": true,
    "jupyter": {
     "outputs_hidden": true
    }
   },
   "outputs": [
    {
     "data": {
      "text/plain": [
       "['The',\n",
       " 'human',\n",
       " 'organism',\n",
       " 'coexists',\n",
       " 'with',\n",
       " 'its',\n",
       " 'microbiota',\n",
       " 'in',\n",
       " 'a',\n",
       " 'symbiotic',\n",
       " 'relationship.',\n",
       " 'These',\n",
       " 'polymicrobial',\n",
       " 'communities',\n",
       " 'are',\n",
       " 'involved',\n",
       " 'in',\n",
       " 'many',\n",
       " 'crucial',\n",
       " 'functions,',\n",
       " 'such',\n",
       " 'as',\n",
       " 'immunity,',\n",
       " 'protection',\n",
       " 'against',\n",
       " 'pathogens,',\n",
       " 'and',\n",
       " 'metabolism',\n",
       " 'of',\n",
       " 'dietary',\n",
       " 'compounds,',\n",
       " 'thus',\n",
       " 'maintaining',\n",
       " 'homeostasis.',\n",
       " 'The',\n",
       " 'oral',\n",
       " 'cavity',\n",
       " 'and',\n",
       " 'the',\n",
       " 'colon,',\n",
       " 'although',\n",
       " 'distant',\n",
       " 'anatomic',\n",
       " 'regions,',\n",
       " 'are',\n",
       " 'both',\n",
       " 'highly',\n",
       " 'colonized',\n",
       " 'by',\n",
       " 'distinct',\n",
       " 'microbiotas.',\n",
       " 'However,',\n",
       " 'studies',\n",
       " 'indicate',\n",
       " 'that',\n",
       " 'oral',\n",
       " 'bacteria',\n",
       " 'are',\n",
       " 'able',\n",
       " 'to',\n",
       " 'disseminate',\n",
       " 'into',\n",
       " 'the',\n",
       " 'colon.',\n",
       " 'This',\n",
       " 'is',\n",
       " 'mostly',\n",
       " 'evident',\n",
       " 'in',\n",
       " 'conditions',\n",
       " 'such',\n",
       " 'as',\n",
       " 'periodontitis,',\n",
       " 'where',\n",
       " 'specific',\n",
       " 'bacteria,',\n",
       " 'namely',\n",
       " 'Fusobacterium',\n",
       " 'nucrelatum',\n",
       " 'and',\n",
       " 'Porphyromonas',\n",
       " 'gingivalis',\n",
       " 'project',\n",
       " 'a',\n",
       " 'pathogenic',\n",
       " 'profile.',\n",
       " 'In',\n",
       " 'the',\n",
       " 'colon',\n",
       " 'these',\n",
       " 'bacteria',\n",
       " 'can',\n",
       " 'alter',\n",
       " 'the',\n",
       " 'composition',\n",
       " 'of',\n",
       " 'the',\n",
       " 'residual',\n",
       " 'microbiota,',\n",
       " 'in',\n",
       " 'the',\n",
       " 'context',\n",
       " 'of',\n",
       " 'complex',\n",
       " 'biofilms,',\n",
       " 'resulting',\n",
       " 'in',\n",
       " 'intestinal',\n",
       " 'dysbiosis.',\n",
       " 'This',\n",
       " 'orally-driven',\n",
       " 'disruption',\n",
       " 'promotes',\n",
       " 'aberrant',\n",
       " 'immune',\n",
       " 'and',\n",
       " 'inflammatory',\n",
       " 'responses,',\n",
       " 'eventually',\n",
       " 'leading',\n",
       " 'to',\n",
       " 'colorectal',\n",
       " 'cancer',\n",
       " '(CRC)',\n",
       " 'tumorigenesis.',\n",
       " 'Understanding',\n",
       " 'the',\n",
       " 'exact',\n",
       " 'mechanisms',\n",
       " 'of',\n",
       " 'these',\n",
       " 'interactions',\n",
       " 'will',\n",
       " 'yield',\n",
       " 'future',\n",
       " 'opportunities',\n",
       " 'regarding',\n",
       " 'prevention',\n",
       " 'and',\n",
       " 'treatment',\n",
       " 'of',\n",
       " 'CRC.']"
      ]
     },
     "execution_count": 84,
     "metadata": {},
     "output_type": "execute_result"
    }
   ],
   "source": [
    "words"
   ]
  },
  {
   "cell_type": "code",
   "execution_count": 123,
   "metadata": {},
   "outputs": [
    {
     "name": "stdout",
     "output_type": "stream",
     "text": [
      "('colon', 3)\n",
      "('bacteria', 3)\n",
      "('microbiota', 2)\n",
      "('oral', 2)\n",
      "('crc', 2)\n",
      "5\n"
     ]
    },
    {
     "data": {
      "image/png": "[encoded data removed]",
      "text/plain": [
       "<Figure size 432x288 with 1 Axes>"
      ]
     },
     "metadata": {
      "needs_background": "light"
     },
     "output_type": "display_data"
    }
   ],
   "source": [
    "import matplotlib.pyplot as plt\n",
    "from wordcloud import WordCloud,STOPWORDS,ImageColorGenerator\n",
    "import nltk\n",
    "from PIL import Image\n",
    "import numpy as np\n",
    "\n",
    "Paper = '''The human organism coexists with its microbiota in a symbiotic relationship. \n",
    "These polymicrobial communities are involved in many crucial functions, such as immunity, protection against pathogens, and metabolism of dietary compounds, thus maintaining homeostasis. \n",
    "The oral cavity and the colon, although distant anatomic regions, are both highly colonized by distinct microbiotas. However, studies indicate that oral bacteria are able to disseminate into the colon. \n",
    "This is mostly evident in conditions such as periodontitis, where specific bacteria, namely Fusobacterium nucrelatum and Porphyromonas gingivalis project a pathogenic profile. \n",
    "In the colon these bacteria can alter the composition of the residual microbiota, in the context of complex biofilms, resulting in intestinal dysbiosis. \n",
    "This orally-driven disruption promotes aberrant immune and inflammatory responses, eventually leading to colorectal cancer (CRC) tumorigenesis. \n",
    "Understanding the exact mechanisms of these interactions will yield future opportunities regarding prevention and treatment of CRC.'''\n",
    "\n",
    "max_words = 15\n",
    "\n",
    "# 前處理\n",
    "Paper = Paper.lower()\n",
    "for ch in '!\"#$&()*+,-./:;<=>?@[\\\\]^_{|}·~‘’':\n",
    "    Paper = Paper.replace(ch,\"\")\n",
    "words = Paper.split()\n",
    "\n",
    "# 統計\n",
    "fd = nltk.FreqDist(words).most_common()\n",
    "number = 0\n",
    "for each in fd :\n",
    "    if each[1] <= 1 :\n",
    "        break\n",
    "    if each[0] not in STOPWORDS  :\n",
    "        print(each)\n",
    "        number += 1\n",
    "        if number >= max_words :\n",
    "            break\n",
    "\n",
    "print(number)\n",
    "\n",
    "\n",
    "\n",
    "\n",
    "# 文字雲\n",
    "backgroud_Image = plt.imread('D:/Record/NLP/white.jpg')   # 自己可以换\n",
    "wc = WordCloud(\n",
    "               background_color = 'black',\n",
    "#               mask = backgroud_Image,\n",
    "                max_words = number,\n",
    "                min_word_length = 2, # 一個單詞必須包含的最少字母數\n",
    "#               collocation_threshold = 2,\n",
    "                stopwords = STOPWORDS,   # 设置停用词\n",
    "#               max_font_size = 200,      # 设置字体最大值\n",
    "                random_state = 30        # 设置随机数，有多少种配色方案\n",
    "                \n",
    "               ) \n",
    "wc.generate(' '.join(words))\n",
    "image_colors = ImageColorGenerator(backgroud_Image)\n",
    "wc.recolor(color_func = image_colors)\n",
    "\n",
    "\n",
    "\n",
    "plt.imshow(wc)\n",
    "plt.axis('off')\n",
    "plt.show()"
   ]
  },
  {
   "cell_type": "markdown",
   "metadata": {},
   "source": [
    "# BioNLP"
   ]
  },
  {
   "cell_type": "raw",
   "metadata": {},
   "source": [
    "數據庫"
   ]
  },
  {
   "cell_type": "markdown",
   "metadata": {},
   "source": [
    "參考 : https://www.itread01.com/content/1546423754.html"
   ]
  },
  {
   "cell_type": "markdown",
   "metadata": {},
   "source": [
    "# BioNER"
   ]
  },
  {
   "cell_type": "raw",
   "metadata": {},
   "source": [
    "根據實體類型的不同分別為 化學藥物（Chemical）、疾病（Disease）、基因蛋白（Gene/Protein）、基因變異（Mutation）和物種（Species）的實體識別"
   ]
  },
  {
   "cell_type": "markdown",
   "metadata": {},
   "source": [
    "https://www.cnblogs.com/robert-dlut/p/11593290.html"
   ]
  }
 ],
 "metadata": {
  "kernelspec": {
   "display_name": "NLP",
   "language": "python",
   "name": "nlp"
  },
  "language_info": {
   "codemirror_mode": {
    "name": "ipython",
    "version": 3
   },
   "file_extension": ".py",
   "mimetype": "text/x-python",
   "name": "python",
   "nbconvert_exporter": "python",
   "pygments_lexer": "ipython3",
   "version": "3.6.12"
  }
 },
 "nbformat": 4,
 "nbformat_minor": 4
}
