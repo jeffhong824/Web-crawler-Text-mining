{
 "cells": [
  {
   "cell_type": "markdown",
   "metadata": {},
   "source": [
    "# Google search"
   ]
  },
  {
   "cell_type": "code",
   "execution_count": 1,
   "metadata": {},
   "outputs": [
    {
     "name": "stdin",
     "output_type": "stream",
     "text": [
      "請使用者打欲查詢之關鍵字： corona virus\n",
      "請使用者打欲查詢之頁數： 3\n"
     ]
    },
    {
     "name": "stdout",
     "output_type": "stream",
     "text": [
      "第1頁的URL為:\thttps://www.google.com.tw/search?hl=ch&q=corona%20virus\n",
      "第2頁的URL為:\thttps://www.google.com//search?q=corona+virus&hl=ch&ie=UTF-8&ei=U4uVXuKWE9qXr7wPxL6DiA0&start=10&sa=N\n",
      "第3頁的URL為:\thttps://www.google.com//search?q=corona+virus&hl=ch&ie=UTF-8&ei=U4uVXueqMKyMr7wP6t2muAw&start=0&sa=N\n"
     ]
    }
   ],
   "source": [
    "import requests\n",
    "import urllib\n",
    "from bs4 import BeautifulSoup\n",
    "\n",
    "query = input(\"請使用者打欲查詢之關鍵字：\")\n",
    "page = input(\"請使用者打欲查詢之頁數：\")\n",
    "url = \"https://www.google.com.tw/search?hl=ch&q=\" + urllib.parse.quote(query)\n",
    "url_list = []\n",
    "\n",
    "for i in range(int(page)):\n",
    "    res = requests.get(url , timeout = 3) \n",
    "    soup = BeautifulSoup(res.text,\"html.parser\")\n",
    "    print (\"第\"+str(i+1)+\"頁的URL為:\\t\"+ url ); url_list.append(url)\n",
    "    \n",
    "    next_link = soup.find(class_= 'nBDE1b G5eFlf').get('href') \n",
    "\n",
    "    url = \"https://www.google.com/\"+ next_link "
   ]
  },
  {
   "cell_type": "code",
   "execution_count": 2,
   "metadata": {},
   "outputs": [
    {
     "name": "stdout",
     "output_type": "stream",
     "text": [
      "第 1 頁搜尋結果的每個超連結為:\n",
      "\n",
      "Title : Coronavirus Update (Live): 1,925,179 Cases and 119,701 ...\n",
      "Http : https://www.worldometers.info/coronavirus/\n",
      "Title : Latest figures on China's coronavirus out... | Taiwan News\n",
      "Http : https://www.taiwannews.com.tw/en/news/3864928\n",
      "Title : Coronavirus - World Health Organization\n",
      "Http : https://www.who.int/health-topics/coronavirus\n",
      "Title : Coronavirus disease 2019 - World Health Organization\n",
      "Http : https://www.who.int/emergencies/diseases/novel-coronavirus-2019\n",
      "Title : Coronavirus - Wikipedia\n",
      "Http : https://en.wikipedia.org/wiki/Coronavirus\n",
      "Title : Coronavirus: All you need to know about symptoms and risks ...\n",
      "Http : https://www.aljazeera.com/news/2020/01/coronavirus-symptoms-vaccines-risks-200122194509687.html\n",
      "Title : Coronavirus pandemic: Tracking the global outbreak - BBC ...\n",
      "Http : https://www.bbc.com/news/world-51235105\n",
      "Title : Novel Coronavirus Information Center - Elsevier\n",
      "Http : https://www.elsevier.com/connect/coronavirus-information-center\n",
      "Title : Coronavirus latest: UK launches massive diagnostic network\n",
      "Http : https://www.nature.com/articles/d41586-020-00154-w\n",
      "Title : Coronavirus disease 2019 (COVID-19) - Symptoms and ...\n",
      "Http : https://www.mayoclinic.org/diseases-conditions/coronavirus/symptoms-causes/syc-20479963\n",
      "-----------------------------------------------------------------\n",
      "第 2 頁搜尋結果的每個超連結為:\n",
      "\n",
      "Title : Coronavirus World Live Tracker: India Extends Nationwide ...\n",
      "Http : https://www.nytimes.com/2020/04/14/world/coronavirus-news.html\n",
      "Title : Opinion | Who Is Immune to the Coronavirus? - The New York ...\n",
      "Http : https://www.nytimes.com/2020/04/13/opinion/coronavirus-immunity.html\n",
      "Title : Coronavirus disease (COVID-19) | UNICEF\n",
      "Http : https://www.unicef.org/coronavirus/covid-19\n",
      "Title : Coronavirus (covid-19): Latest news and resources | The BMJ\n",
      "Http : https://www.bmj.com/coronavirus\n",
      "Title : Get the insights you need on the Coronavirus. - Clarivate\n",
      "Http : https://clarivate.com/coronavirus-resources/\n",
      "Title : Coronavirus Disease (COVID-19) – Statistics and Research ...\n",
      "Http : https://ourworldindata.org/coronavirus\n",
      "Title : Home | Coronavirus COVID-19 - Info-Coronavirus\n",
      "Http : https://www.info-coronavirus.be/en/\n",
      "Title : Coronavirus Disease 2019 (COVID-19) | CDC\n",
      "Http : https://www.cdc.gov/coronavirus/2019-ncov/index.html\n",
      "Title : COVID-19 Resource Centre - The Lancet\n",
      "Http : https://www.thelancet.com/coronavirus\n",
      "Title : Coronavirus response | European Commission\n",
      "Http : https://ec.europa.eu/info/live-work-travel-eu/health/coronavirus-response_en\n",
      "-----------------------------------------------------------------\n",
      "第 3 頁搜尋結果的每個超連結為:\n",
      "\n",
      "Title : Coronavirus Update (Live): 1,925,179 Cases and 119,701 ...\n",
      "Http : https://www.worldometers.info/coronavirus/\n",
      "Title : Latest figures on China's coronavirus out... | Taiwan News\n",
      "Http : https://www.taiwannews.com.tw/en/news/3864928\n",
      "Title : Coronavirus - World Health Organization\n",
      "Http : https://www.who.int/health-topics/coronavirus\n",
      "Title : Coronavirus disease 2019 - World Health Organization\n",
      "Http : https://www.who.int/emergencies/diseases/novel-coronavirus-2019\n",
      "Title : Coronavirus - Wikipedia\n",
      "Http : https://en.wikipedia.org/wiki/Coronavirus\n",
      "Title : Coronavirus: All you need to know about symptoms and risks ...\n",
      "Http : https://www.aljazeera.com/news/2020/01/coronavirus-symptoms-vaccines-risks-200122194509687.html\n",
      "Title : Coronavirus pandemic: Tracking the global outbreak - BBC ...\n",
      "Http : https://www.bbc.com/news/world-51235105\n",
      "Title : Novel Coronavirus Information Center - Elsevier\n",
      "Http : https://www.elsevier.com/connect/coronavirus-information-center\n",
      "Title : Coronavirus latest: UK launches massive diagnostic network\n",
      "Http : https://www.nature.com/articles/d41586-020-00154-w\n",
      "Title : Coronavirus disease 2019 (COVID-19) - Symptoms and ...\n",
      "Http : https://www.mayoclinic.org/diseases-conditions/coronavirus/symptoms-causes/syc-20479963\n",
      "-----------------------------------------------------------------\n"
     ]
    }
   ],
   "source": [
    "q = 0 \n",
    "for urlist in url_list:\n",
    "    print(\"第 %d 頁搜尋結果的每個超連結為:\\n\" %(q+1));q+=1\n",
    "    \n",
    "    req = urllib.request.Request(url=urlist, headers={'User-Agent':'Mozilla/5.0 (Windows NT 6.1; WOW64; rv:23.0) Gecko/20100101 Firefox/23.0'})\n",
    "    soup = BeautifulSoup(urllib.request.urlopen(req).read(), features='lxml')\n",
    "    \n",
    "    tab_s= soup.find_all(\"div\", class_=\"r\")\n",
    "    for tab in tab_s :\n",
    "        #print('Http : %s\\tTitle : %s'%(tab.a['href'],tab.find(\"h3\", class_=\"LC20lb DKV0Md\").text))\n",
    "        print('Title : %s'%(tab.find(\"h3\", class_=\"LC20lb DKV0Md\").text))\n",
    "        print('Http : %s'%(tab.a['href']))\n",
    "        \n",
    "    print(\"-----------------------------------------------------------------\")"
   ]
  },
  {
   "cell_type": "code",
   "execution_count": null,
   "metadata": {},
   "outputs": [],
   "source": []
  }
 ],
 "metadata": {
  "kernelspec": {
   "display_name": "Python 3",
   "language": "python",
   "name": "python3"
  },
  "language_info": {
   "codemirror_mode": {
    "name": "ipython",
    "version": 3
   },
   "file_extension": ".py",
   "mimetype": "text/x-python",
   "name": "python",
   "nbconvert_exporter": "python",
   "pygments_lexer": "ipython3",
   "version": "3.7.3"
  }
 },
 "nbformat": 4,
 "nbformat_minor": 2
}
