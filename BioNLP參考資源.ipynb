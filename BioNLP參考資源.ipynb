{
 "cells": [
  {
   "cell_type": "markdown",
   "metadata": {},
   "source": [
    "# BioNLP"
   ]
  },
  {
   "cell_type": "raw",
   "metadata": {},
   "source": [
    "數據庫"
   ]
  },
  {
   "cell_type": "markdown",
   "metadata": {},
   "source": [
    "參考 : https://www.itread01.com/content/1546423754.html"
   ]
  },
  {
   "cell_type": "markdown",
   "metadata": {},
   "source": [
    "# BioNER"
   ]
  },
  {
   "cell_type": "raw",
   "metadata": {},
   "source": [
    "根據實體類型的不同分別為 化學藥物（Chemical）、疾病（Disease）、基因蛋白（Gene/Protein）、基因變異（Mutation）和物種（Species）的實體識別"
   ]
  },
  {
   "cell_type": "markdown",
   "metadata": {},
   "source": [
    "https://www.cnblogs.com/robert-dlut/p/11593290.html"
   ]
  },
  {
   "cell_type": "markdown",
   "metadata": {},
   "source": [
    "## Gene"
   ]
  },
  {
   "cell_type": "raw",
   "metadata": {},
   "source": [
    "BC2GM"
   ]
  },
  {
   "cell_type": "raw",
   "metadata": {},
   "source": [
    "Gene Mention Tagging task as part of the BioCreative II challenge is concerned with the named entity extraction of gene and gene product mentions in text. The BC2GM corpus contains a total of 24,583 gene entity mentions.\n",
    "作為BioCreative II挑戰的一部分的基因提及標記任務與文本中提及的基因和基因產物的命名實體提取有關。 BC2GM語料庫包含總共24,583個基因實體提及。"
   ]
  },
  {
   "cell_type": "markdown",
   "metadata": {},
   "source": [
    "https://academic.oup.com/bioinformatics/article/36/4/1234/5566506"
   ]
  },
  {
   "cell_type": "raw",
   "metadata": {},
   "source": [
    "JNLPBA"
   ]
  },
  {
   "cell_type": "raw",
   "metadata": {},
   "source": [
    "JNLPBA corpus contains 2,404 abstracts extracted from MEDLINE using the MeSH terms “human”, “blood- cell” and “transcription factor”. The manual annotation of these abstracts was based on five classes of the GENIA ontology, namely protein, DNA, RNA, cell line, and cell type. This corpus was used in the Bio-Entity Recognition Task in BioNLP/NLPBA 2004, providing 2,000 abstracts for training and the remaining 404 abstracts for testing. The overall results are shown in the following table.\n",
    "JNLPBA語料庫包含使用MeSH術語“人”，“血細胞”和“轉錄因子”從MEDLINE提取的2404個摘要。 這些摘要的手動註釋基於GENIA本體的五類，即蛋白質，DNA，RNA，細胞系和細胞類型。 該語料庫在BioNLP / NLPBA 2004的生物實體識別任務中使用，提供了2,000個摘要用於培訓，其餘404個摘要用於測試。 總體結果如下表所示。"
   ]
  },
  {
   "cell_type": "markdown",
   "metadata": {},
   "source": [
    "https://academic.oup.com/bioinformatics/article/36/4/1234/5566506"
   ]
  },
  {
   "cell_type": "markdown",
   "metadata": {},
   "source": [
    "## 競賽"
   ]
  },
  {
   "cell_type": "raw",
   "metadata": {},
   "source": [
    "此為生醫論文自動分析，簡單來說任務包含「須辨識文獻中所提及的基因、疾病以及化學物質共三種命名實體」，但不僅如此，我認為此競賽之資料集有機會可以幫助我們的任務!\n",
    "\n",
    "一. 資料來源包含：\n",
    "PubMed、PubMed Central、以及專利文獻摘要\n",
    "\n",
    "二. 資料集來源說明 本競賽所提供的資料集來源如下： \n",
    "• PubMed 之生醫文獻摘要。 \n",
    "• PubMed Central 生醫文獻全文中每個章節的第一個段落（僅使用全文中之 Introduction、Discussion、Result 與 Conclusion）。 \n",
    "• PubMed Central 之 figure captions，一篇生醫文獻只選一個 figure caption 做為標註。\n",
    "• 生醫專利文件之摘要。 \n",
    "\n",
    "P.S. PubMed、 PubMed Central 與 Patent 皆是基於同樣的關鍵字收 集而來（除訓練集 2000 篇是依據競賽標準重新標註的 JNLPBA 語料庫 3生醫文 獻摘要）。\n",
    "\n",
    "三. 生醫文獻涵蓋範圍為： \n",
    "cancer 、 virus 、 immune 、 metabolism 、 Microbiology 。\n",
    "\n",
    "四. Instance 涵蓋範圍包含以下項目：\n",
    "• 基因與其ID，例如：<PMID:26037070,Gene,Entrez:3576>\n",
    "• 疾病與其ID ，若疾病在該篇文件，有說明發源的器官，需標註該器官之MeSH ID，若沒有明確所屬的器官，器官可為空，例如：<PMID:26037070,Disease,MeSH:D004194,Target_Organ:D013270>\n",
    "• 化合物與其ID，若化合物在該篇文件，有關聯的疾病，需標註該疾病之MeSH ID，若沒有明確關聯的疾病，疾病可為空，例如：<PMID:26039320,Chemical,CHEBI:6497,Cause_Disease:NULL>"
   ]
  },
  {
   "cell_type": "raw",
   "metadata": {},
   "source": [
    "競賽一"
   ]
  },
  {
   "cell_type": "markdown",
   "metadata": {},
   "source": [
    "https://aidea-web.tw/topic/159a26c8-6069-4ac2-8f55-82dad50acf9a"
   ]
  },
  {
   "cell_type": "raw",
   "metadata": {},
   "source": [
    "競賽二"
   ]
  },
  {
   "cell_type": "markdown",
   "metadata": {},
   "source": [
    "https://aidea-web.tw/topic/d0cec130-b15d-4c4c-b7e8-bf95a0c34dd8"
   ]
  },
  {
   "cell_type": "markdown",
   "metadata": {},
   "source": [
    "## 「linked life data」是有關life science的知識圖譜"
   ]
  },
  {
   "cell_type": "markdown",
   "metadata": {},
   "source": [
    "http://linkedlifedata.com/"
   ]
  },
  {
   "cell_type": "code",
   "execution_count": null,
   "metadata": {},
   "outputs": [],
   "source": []
  }
 ],
 "metadata": {
  "kernelspec": {
   "display_name": "NLP",
   "language": "python",
   "name": "nlp"
  },
  "language_info": {
   "codemirror_mode": {
    "name": "ipython",
    "version": 3
   },
   "file_extension": ".py",
   "mimetype": "text/x-python",
   "name": "python",
   "nbconvert_exporter": "python",
   "pygments_lexer": "ipython3",
   "version": "3.6.12"
  }
 },
 "nbformat": 4,
 "nbformat_minor": 4
}
