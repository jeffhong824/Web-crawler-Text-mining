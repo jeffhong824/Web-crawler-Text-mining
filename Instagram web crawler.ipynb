{
 "cells": [
  {
   "cell_type": "markdown",
   "metadata": {},
   "source": [
    "## Maintain"
   ]
  },
  {
   "cell_type": "raw",
   "metadata": {},
   "source": [
    "# _aaqm\n",
    "\n",
    "# maintain-parameters\n",
    "-- CD = 10 # 進CD 10秒冷卻\n",
    "-- _aaqm location = driver2.find_element_by_css_selector('[class=\"_aaqm\"]').text\n",
    "\n",
    "# maintain-driver-quantity\n",
    "\n",
    "# need upgrade"
   ]
  },
  {
   "cell_type": "code",
   "execution_count": null,
   "metadata": {},
   "outputs": [],
   "source": [
    "# 進CD 10秒冷卻\n",
    "# Object"
   ]
  },
  {
   "cell_type": "markdown",
   "metadata": {},
   "source": [
    "## Readme - igsearch"
   ]
  },
  {
   "cell_type": "raw",
   "metadata": {},
   "source": [
    "user_input_from_web': str --> user_input_from_web\n",
    "'user_id': str --> user_id\n",
    "'request': bool --> feedback ( True ) 去檢查 driver status"
   ]
  },
  {
   "cell_type": "markdown",
   "metadata": {},
   "source": [
    "## Readme - driver status"
   ]
  },
  {
   "cell_type": "raw",
   "metadata": {},
   "source": [
    "\"driver_status\" : list --> driver狀況 0代表未使用/1代表使用中\n",
    "\"driver_request_from\" : list --> driver呼叫編號 id代表第幾次呼叫之\n",
    "\"driver1_links\" : list --> 第一返回結果(網址)\n",
    "\"driver1_position\" : list --> 第二返回結果(地點)\n",
    "\"driver2_links\" : list --> 第一返回結果(網址)\n",
    "\"driver2_position\" : list --> 第二返回結果(地點)"
   ]
  },
  {
   "cell_type": "raw",
   "metadata": {},
   "source": [
    "forin.range2022 forin.range.ig@gmail.com\n",
    "sightsinsight1 SightsinSight1@gmail.com\n",
    "sightsinsight2 jeffhong8244@gmail.com\n",
    "sightsinsight3 jeffhong824444@gmail.com\n",
    "sightsinsight4 tingchun.tc.hung@gmail.com\n",
    "\n",
    "forin.range.ig2022"
   ]
  },
  {
   "cell_type": "markdown",
   "metadata": {},
   "source": [
    "## Docker file"
   ]
  },
  {
   "cell_type": "markdown",
   "metadata": {},
   "source": [
    "【安裝環境】\n",
    "STEP1 : docker pull selenium/standalone-chrome (將需要的docker先拉到本機)\n",
    "STEP2 : docker run -d --user root  -it selenium/standalone-chrome bash (於背景持行此docker)\n",
    "STEP3 : docker exec -it 90d1 bash (呼叫CONTAINER ID)\n",
    "STEP4 : apt update\n",
    "STEP5 : apt install python3-pip\n",
    "STEP6 : apt install python3.8\n",
    "STEP7 : (其他必要函式庫)\n",
    "    pip install selenium\n",
    "    pip install socket \n",
    "    pip  install flask\n",
    "STEP8 : exit\n",
    "STEP9 : docker commit 90d1 autolamp_thermo"
   ]
  },
  {
   "cell_type": "markdown",
   "metadata": {},
   "source": [
    "## Code"
   ]
  },
  {
   "cell_type": "code",
   "execution_count": 3,
   "metadata": {},
   "outputs": [
    {
     "name": "stdout",
     "output_type": "stream",
     "text": [
      "============= Create \"Google map\" class =============\n",
      "============= Create \"IG search\" class =============\n"
     ]
    }
   ],
   "source": [
    "from selenium import webdriver\n",
    "from selenium.webdriver.chrome.options import Options\n",
    "from selenium.webdriver.common.keys import Keys\n",
    "from selenium.webdriver.remote.command import Command\n",
    "import time \n",
    "import threading\n",
    "import http.client\n",
    "import socket\n",
    "\n",
    "class Google_map():\n",
    "    \n",
    "    def __init__(self, head='--headless'): #--headless\n",
    "        time_start = time.time() #開始計時\n",
    "        print('create Google driver')\n",
    "        chrome_options = Options()\n",
    "        chrome_options = chrome_options\n",
    "        chrome_options.add_argument(head)\n",
    "        self.driver_map = webdriver.Chrome(options=chrome_options)\n",
    "        time_end = time.time()    #結束計時\n",
    "        time_c= time_end - time_start   #執行所花時間\n",
    "        print('time cost', time_c, 's')\n",
    "        \n",
    "    def return_driver(self):\n",
    "        return self.driver_map\n",
    "    \n",
    "    def search_loc(self,driver_map,spot_name):\n",
    "        time_start = time.time() #開始計時\n",
    "        driver_map.get(\"https://www.google.com.tw/maps/place/\"+spot_name+\"/\")\n",
    "        current_spot_loc = ''\n",
    "        while current_spot_loc.find('@') == -1 :\n",
    "            current_spot_loc = str(driver_map.current_url)\n",
    "\n",
    "        start = current_spot_loc.find('@')+1\n",
    "        end = current_spot_loc[start:].replace(',',' ',1).find(',')+start\n",
    "        print(current_spot_loc[start:end],end = ' ')\n",
    "        time_end = time.time()    #結束計時\n",
    "        time_c= time_end - time_start   #執行所花時間\n",
    "        print('time cost', time_c, 's')\n",
    "        \n",
    "        return current_spot_loc[start:end].split(',')\n",
    "\n",
    "print('============= Create \"Google map\" class =============')\n",
    "    \n",
    "class IG_hot_hasgtag():\n",
    "\n",
    "    def __init__(self, head='--headless',account_number=\"forin.range.ig@gmail.com\",password=\"forin.range.ig2022\"): #--headless\n",
    "        \n",
    "        self.time_sleep = 2\n",
    "        \n",
    "        print('create IG driver & login')\n",
    "        \n",
    "        time_start = time.time() #開始計時\n",
    "        def login(driver,account_number=\"forin.range.ig@gmail.com\",password=\"forin.range.ig2022\"):\n",
    "            wait_login_success = False\n",
    "\n",
    "            try:\n",
    "                driver.get('https://www.instagram.com/accounts/login/')\n",
    "                time.sleep(self.time_sleep)\n",
    "                driver.find_element_by_xpath('//*[@id=\"loginForm\"]/div/div[1]/div/label/input').send_keys(account_number)\n",
    "                driver.find_element_by_xpath('//*[@id=\"loginForm\"]/div/div[2]/div/label/input').send_keys(password)\n",
    "                driver.find_element_by_xpath('//*[@id=\"loginForm\"]/div[1]/div[3]/button/div').click()\n",
    "                try:\n",
    "                    driver.find_element_by_xpath('//*[@id=\"loginForm\"]/div[1]/div[3]/button/div').click()\n",
    "                    wait_login_success = False\n",
    "                except:\n",
    "                    wait_login_success = True\n",
    "            except:\n",
    "                wait_login_success = False\n",
    "                \n",
    "            return wait_login_success\n",
    "        \n",
    "        # driver setting \n",
    "        chrome_options = Options()\n",
    "        if head == '--headless' :\n",
    "            chrome_options.add_argument(head)\n",
    "        self.__chrome_options = chrome_options\n",
    "\n",
    "        # web activate\n",
    "\n",
    "        def open_driver(driver,account_number=\"forin.range.ig@gmail.com\",password=\"forin.range.ig2022\"):\n",
    "            wait_login_success = False\n",
    "            while wait_login_success == False :\n",
    "                driver = webdriver.Chrome(options=self.__chrome_options)\n",
    "                time.sleep(self.time_sleep)\n",
    "                wait_login_success = login(driver,account_number,password)\n",
    "                if wait_login_success == False :\n",
    "                    driver.quit()\n",
    "            return driver\n",
    "                \n",
    "        self.driver_search_hashtag = 0\n",
    "        self.driver_search_hashtag = open_driver(self.driver_search_hashtag,account_number,password) # SightsinSight1@gmail.com # forin.range.ig@gmail.com\n",
    "        time_end = time.time()    #結束計時\n",
    "        time_c= time_end - time_start   #執行所花時間\n",
    "        print('time cost', time_c, 's')\n",
    "        \n",
    "    def return_driver(self):\n",
    "        return self.driver_search_hashtag\n",
    "\n",
    "    def search_sight(self,driver,sight=\"#台北景點\",stop_threshold = 100):\n",
    "        \n",
    "        driver.get('https://www.instagram.com/accounts/onetap/?next=%2F')\n",
    "        wait_search_success = True\n",
    "        already_run_times = 0\n",
    "        success = False\n",
    "        while wait_search_success :\n",
    "            try:\n",
    "                # type sight in input_bar\n",
    "                driver.find_element_by_xpath('//*[@id=\"react-root\"]/section/nav/div[2]/div/div/div[2]/input').send_keys(sight)\n",
    "                time.sleep(3)\n",
    "                driver.find_element_by_xpath('//*[@id=\"react-root\"]/section/nav/div[2]/div/div/div[2]/input').send_keys(Keys.DOWN)\n",
    "                # compare url\n",
    "                login_url = driver.current_url\n",
    "                now_url = driver.current_url\n",
    "                while login_url==now_url :\n",
    "                    driver.find_element_by_xpath('//*[@id=\"react-root\"]/section/nav/div[2]/div/div/div[2]/input').send_keys(Keys.ENTER)\n",
    "                    now_url = driver.current_url\n",
    "                success = True\n",
    "                wait_search_success = False\n",
    "            except:\n",
    "                already_run_times += 1\n",
    "                if already_run_times <= stop_threshold :\n",
    "                    success = False\n",
    "                    wait_search_success = True\n",
    "                else :\n",
    "                    success = False\n",
    "                    wait_search_success = False \n",
    "        return success\n",
    "             \n",
    "    def find_IG_link_info(self,driver):\n",
    "        \n",
    "        ## Running \n",
    "        # loop for get links\n",
    "        wait_getlinks_success = True\n",
    "        while wait_getlinks_success :\n",
    "            try:\n",
    "                href_list = driver.find_elements_by_css_selector(\"a\")\n",
    "                href_list_get = []\n",
    "                if href_list != []:\n",
    "                    link_check = True\n",
    "                    for each_href in href_list[:9]:\n",
    "                        href = each_href.get_attribute('href')\n",
    "                        if str(href).find('/p/')!= -1 :\n",
    "                            href_list_get.append(href)\n",
    "                            print(href)\n",
    "                        else:\n",
    "                            link_check = False\n",
    "                    if link_check!=True :\n",
    "                        href_list_get = [\"https://www.instagram.com/p/Ceh6Un7vBIo\",\"https://www.instagram.com/p/Ceh6Un7vBIo\",\"https://www.instagram.com/p/Ceh6Un7vBIo\",\"https://www.instagram.com/p/Ceh6Un7vBIo\",\"https://www.instagram.com/p/Ceh6Un7vBIo\",\"https://www.instagram.com/p/Ceh6Un7vBIo\",\"https://www.instagram.com/p/Ceh6Un7vBIo\",\"https://www.instagram.com/p/Ceh6Un7vBIo\",\"https://www.instagram.com/p/Ceh6Un7vBIo\"]\n",
    "                    wait_getlinks_success = False\n",
    "            except:\n",
    "                wait_getlinks_success = True\n",
    "        \n",
    "        \n",
    "        return href_list_get\n",
    "\n",
    "    def search_Hot_hashtag(self,sight=\"#台北景點\",show=False):\n",
    "        time_start = time.time() #開始計時\n",
    "        # setting\n",
    "        self.__show = show\n",
    "        # search sight\n",
    "        success = self.search_sight(self.driver_search_hashtag,sight=sight,stop_threshold = 100)\n",
    "        if success :\n",
    "            Hot_hrefs = self.find_IG_link_info(self.driver_search_hashtag)\n",
    "            time_end = time.time()    #結束計時\n",
    "            time_c= time_end - time_start   #執行所花時間\n",
    "            print('time cost', time_c, 's')\n",
    "            return Hot_hrefs\n",
    "        \n",
    "    def search_hashtag_loaction_info(self,driver2,target_link):\n",
    "        time_start = time.time() #開始計時\n",
    "        self.__show = True\n",
    "        driver2.get(target_link)\n",
    "\n",
    "        # wait for page\n",
    "        wait_web_success = True\n",
    "        stop_threshold = 100\n",
    "        already_running_web = 0\n",
    "        location = ''\n",
    "        while wait_web_success:\n",
    "            try:\n",
    "                location = driver2.find_element_by_css_selector('[class=\"_aaqm\"]').text\n",
    "                if location != '':\n",
    "                    wait_web_success = False\n",
    "                else:\n",
    "                    already_running_web += 1\n",
    "                    wait_web_success = True\n",
    "                    if already_running_web >= stop_threshold :\n",
    "                        wait_web_success = False\n",
    "            except:\n",
    "                already_running_web += 1\n",
    "                wait_web_success = True\n",
    "                if already_running_web >= stop_threshold :\n",
    "                    wait_web_success = False\n",
    "\n",
    "#         # Location\n",
    "#         try: \n",
    "#             location = driver2.find_element_by_css_selector('[class=\"_aaqm\"]').text\n",
    "#             if self.__show :\n",
    "#                 print(location)\n",
    "#         except:\n",
    "#             location = ''\n",
    "\n",
    "#         # Hasgtag\n",
    "#         hashtags = []\n",
    "#         try:\n",
    "#             hashtag_list = driver2.find_elements_by_css_selector('[class=\" xil3i\"]')\n",
    "#             for each_hashtag in hashtag_list :\n",
    "#                 hashtag = each_hashtag.text\n",
    "#                 hashtags.append(hashtag)\n",
    "#                 if self.__show :\n",
    "#                     print(hashtag,end=' ')\n",
    "#         except:\n",
    "#             hashtags = []\n",
    "\n",
    "#         # IG\n",
    "#         IGs = []\n",
    "#         try:\n",
    "#             IG_list = driver2.find_elements_by_css_selector('[class=\"notranslate\"]')\n",
    "\n",
    "#             for each_IG in IG_list :\n",
    "#                 IG = each_IG.text\n",
    "#                 IGs.append(IG)\n",
    "#                 if self.__show :\n",
    "#                     print(IG)\n",
    "#         except:\n",
    "#             IGs = []\n",
    "   \n",
    "        time_end = time.time()    #結束計時\n",
    "        time_c= time_end - time_start   #執行所花時間\n",
    "        print('time cost', time_c, 's')\n",
    "        return location #,IGs # ,All_text,hashtags\n",
    "\n",
    "print('============= Create \"IG search\" class =============')\n",
    "    \n",
    "# with open('D:/Record/團隊/團隊發展/Jason Team - 團隊名聲 & 新創產品/2022_06_01/NameList.txt','r',encoding='utf-8') as file :\n",
    "#     Spots = file.read().split('\\n')\n",
    "    \n",
    "# print('============= load \"Spots name\" database =============')"
   ]
  },
  {
   "cell_type": "markdown",
   "metadata": {},
   "source": [
    "## 單個driver"
   ]
  },
  {
   "cell_type": "code",
   "execution_count": 5,
   "metadata": {},
   "outputs": [
    {
     "name": "stdout",
     "output_type": "stream",
     "text": [
      "create IG driver & login\n",
      "time cost 10.361324548721313 s\n"
     ]
    }
   ],
   "source": [
    "IG_driver1 = IG_hot_hasgtag(head='--head')"
   ]
  },
  {
   "cell_type": "code",
   "execution_count": 31,
   "metadata": {},
   "outputs": [],
   "source": [
    "IG_driver1.get('https://www.instagram.com/accounts/onetap/?next=%2F')"
   ]
  },
  {
   "cell_type": "code",
   "execution_count": 32,
   "metadata": {},
   "outputs": [],
   "source": [
    "IG_driver1.find_element_by_xpath('//*[@id=\"react-root\"]/section/nav/div[2]/div/div/div[2]/input').send_keys(\"#台北萬華真多景點\")"
   ]
  },
  {
   "cell_type": "code",
   "execution_count": 33,
   "metadata": {},
   "outputs": [],
   "source": [
    "IG_driver1.find_element_by_xpath('//*[@id=\"react-root\"]/section/nav/div[2]/div/div/div[2]/input').send_keys(Keys.DOWN)"
   ]
  },
  {
   "cell_type": "code",
   "execution_count": 34,
   "metadata": {},
   "outputs": [],
   "source": [
    "IG_driver1.find_element_by_xpath('//*[@id=\"react-root\"]/section/nav/div[2]/div/div/div[2]/input').send_keys(Keys.ENTER)"
   ]
  },
  {
   "cell_type": "code",
   "execution_count": null,
   "metadata": {},
   "outputs": [],
   "source": [
    "driver.get('https://www.instagram.com/accounts/onetap/?next=%2F')\n",
    "wait_search_success = True\n",
    "already_run_times = 0\n",
    "success = False\n",
    "while wait_search_success :\n",
    "    try:\n",
    "        # type sight in input_bar\n",
    "        driver.find_element_by_xpath('//*[@id=\"react-root\"]/section/nav/div[2]/div/div/div[2]/input').send_keys(sight)\n",
    "\n",
    "        # compare url\n",
    "        login_url = driver.current_url\n",
    "        now_url = driver.current_url\n",
    "        while login_url==now_url :\n",
    "            driver.find_element_by_xpath('//*[@id=\"react-root\"]/section/nav/div[2]/div/div/div[2]/input').send_keys(Keys.ENTER)\n",
    "            now_url = driver.current_url\n",
    "        success = True\n",
    "        wait_search_success = False\n",
    "    except:\n",
    "        already_run_times += 1\n",
    "        if already_run_times <= stop_threshold :\n",
    "            success = False\n",
    "            wait_search_success = True\n",
    "        else :\n",
    "            success = False\n",
    "            wait_search_success = False "
   ]
  },
  {
   "cell_type": "code",
   "execution_count": null,
   "metadata": {},
   "outputs": [],
   "source": [
    "SightsinSight2\n",
    "forin.range.ig2022"
   ]
  },
  {
   "cell_type": "code",
   "execution_count": 39,
   "metadata": {},
   "outputs": [
    {
     "name": "stdout",
     "output_type": "stream",
     "text": [
      "create IG driver & login\n",
      "time cost 9.253726959228516 s\n"
     ]
    }
   ],
   "source": [
    "# 搭配動畫過程 登入\n",
    "IG_running_class = IG_hot_hasgtag(head='--head',account_number=\"SightsinSight1@gmail.com\",password=\"forin.range.ig2022\")\n",
    "IG_driver1 = IG_running_class.return_driver()\n",
    "\n",
    "# Google_running_class = Google_map()\n",
    "# Google_driver = Google_running_class.return_driver()"
   ]
  },
  {
   "cell_type": "code",
   "execution_count": 40,
   "metadata": {},
   "outputs": [
    {
     "name": "stdout",
     "output_type": "stream",
     "text": [
      "https://www.instagram.com/p/CeXfe4gpPVu/\n",
      "https://www.instagram.com/p/CeV-JBKLZ_r/\n",
      "https://www.instagram.com/p/CefTMd2rBb_/\n",
      "https://www.instagram.com/p/CedAdsfvi_a/\n",
      "https://www.instagram.com/p/CeWE9_khViw/\n",
      "https://www.instagram.com/p/CeaUXq_rK9N/\n",
      "https://www.instagram.com/p/CehzV6Cp5Wz/\n",
      "https://www.instagram.com/p/CebB6GDrdgg/\n",
      "https://www.instagram.com/p/CeV79VtrjM4/\n",
      "time cost 12.067519426345825 s\n"
     ]
    }
   ],
   "source": [
    "# 快速提供前端 9篇網址 呈現視覺圖片\n",
    "Hot_hrefs = IG_running_class.search_Hot_hashtag(sight=\"#台北景點\")"
   ]
  },
  {
   "cell_type": "code",
   "execution_count": 41,
   "metadata": {},
   "outputs": [
    {
     "name": "stdout",
     "output_type": "stream",
     "text": [
      "https://www.instagram.com/p/CeXfe4gpPVu/\n",
      "time cost 1.8711814880371094 s\n",
      "台灣\n",
      "--> Mismatch\n",
      "23.4857501,120.0843006 time cost 10.26226282119751 s\n",
      "================================\n",
      "https://www.instagram.com/p/CeV-JBKLZ_r/\n",
      "time cost 6.237602472305298 s\n",
      "社子大橋\n",
      "--> Mismatch\n",
      "25.079106,121.5694185 time cost 4.0213072299957275 s\n",
      "================================\n",
      "https://www.instagram.com/p/CefTMd2rBb_/\n",
      "time cost 1.869903326034546 s\n",
      "信義區商圈\n",
      "--> Mismatch\n",
      "25.079106,121.5694185 time cost 3.833737373352051 s\n",
      "================================\n",
      "https://www.instagram.com/p/CedAdsfvi_a/\n",
      "time cost 2.7649550437927246 s\n",
      "\n",
      "--> Exact match 5044\n",
      "================================\n",
      "https://www.instagram.com/p/CeWE9_khViw/\n",
      "time cost 1.8005836009979248 s\n",
      "豆留森林\n",
      "--> Mismatch\n",
      "25.079106,121.5694185 time cost 3.8217294216156006 s\n",
      "================================\n",
      "https://www.instagram.com/p/CeaUXq_rK9N/\n",
      "time cost 1.506005048751831 s\n",
      "冰讚\n",
      "--> Mismatch\n",
      "25.079106,121.5694185 time cost 3.748939275741577 s\n",
      "================================\n",
      "https://www.instagram.com/p/CehzV6Cp5Wz/\n",
      "time cost 1.7417116165161133 s\n",
      "昭和浪漫洗濯屋 showa ice cream ソフトクリーム 霜淇淋專売店\n",
      "--> Mismatch\n",
      "25.079106,121.5694185 time cost 3.749892234802246 s\n",
      "================================\n",
      "https://www.instagram.com/p/CebB6GDrdgg/\n",
      "time cost 1.8364105224609375 s\n",
      "誠品書店 eslite bookstore\n",
      "--> Mismatch\n",
      "25.079106,121.5694185 time cost 3.7874064445495605 s\n",
      "================================\n",
      "https://www.instagram.com/p/CeV79VtrjM4/\n",
      "time cost 1.6730046272277832 s\n",
      "華山1914文化創意產業園區\n",
      "--> Mismatch\n",
      "25.079106,121.5694185 time cost 3.796626329421997 s\n",
      "================================\n"
     ]
    }
   ],
   "source": [
    "# 依序提供景點資訊 --> 匹配的到資料庫地點的 (可點選資訊、加到我的最愛)\n",
    "if Hot_hrefs != [\"https://www.instagram.com/p/Ceh6Un7vBIo\",\"https://www.instagram.com/p/Ceh6Un7vBIo\",\"https://www.instagram.com/p/Ceh6Un7vBIo\",\"https://www.instagram.com/p/Ceh6Un7vBIo\",\"https://www.instagram.com/p/Ceh6Un7vBIo\",\"https://www.instagram.com/p/Ceh6Un7vBIo\",\"https://www.instagram.com/p/Ceh6Un7vBIo\",\"https://www.instagram.com/p/Ceh6Un7vBIo\",\"https://www.instagram.com/p/Ceh6Un7vBIo\"] :\n",
    "    All_position_info = []\n",
    "    All_position_info_loc = []\n",
    "    for each_href in Hot_hrefs:\n",
    "        print(each_href)\n",
    "        Position_info = IG_running_class.search_hashtag_loaction_info(IG_driver1,each_href)\n",
    "        All_position_info.append(Position_info)\n",
    "        print(Position_info)\n",
    "        try: \n",
    "            Spot_position = Spots.index(Position_info)\n",
    "            print('--> Exact match',Spot_position)\n",
    "            All_position_info_loc.append([1,Spot_position])\n",
    "        except:\n",
    "            print('--> Mismatch')\n",
    "            # google map loc\n",
    "            current_spot_loc = Google_running_class.search_loc(Google_driver,Position_info)\n",
    "            All_position_info_loc.append([0,current_spot_loc])\n",
    "        print('================================')"
   ]
  },
  {
   "cell_type": "markdown",
   "metadata": {},
   "source": [
    "## User"
   ]
  },
  {
   "cell_type": "code",
   "execution_count": 11,
   "metadata": {},
   "outputs": [],
   "source": [
    "def user(sight,IG_driver):\n",
    "    # 快速提供前端 9篇網址 呈現視覺圖片\n",
    "    Hot_hrefs = IG_running_class.search_Hot_hashtag(sight=sight)\n",
    "    \n",
    "    # 依序提供景點資訊 --> 匹配的到資料庫地點的 (可點選資訊、加到我的最愛)\n",
    "    All_position_info = []\n",
    "    All_position_info_loc = []\n",
    "    for each_href in Hot_hrefs:\n",
    "        print(each_href)\n",
    "        Position_info = IG_running_class.search_hashtag_loaction_info(IG_driver,each_href)\n",
    "        print(Position_info)\n",
    "        All_position_info.append(Position_info)\n",
    "#         try: \n",
    "#             Spot_position = Spots.index(Position_info)\n",
    "#             print('--> Exact match',Spot_position)\n",
    "#             All_position_info_loc.append([1,Spot_position])\n",
    "#         except:\n",
    "#             print('--> Mismatch')\n",
    "            # google map loc\n",
    "#             current_spot_loc = Google_running_class.search_loc(Google_driver,Position_info)\n",
    "#             All_position_info_loc.append([0,current_spot_loc])\n",
    "        print('================================')\n",
    "        \n",
    "    return Hot_hrefs,All_position_info,All_position_info_loc"
   ]
  },
  {
   "cell_type": "code",
   "execution_count": 15,
   "metadata": {},
   "outputs": [
    {
     "name": "stdin",
     "output_type": "stream",
     "text": [
      "請輸入 #內湖景點\n"
     ]
    },
    {
     "name": "stdout",
     "output_type": "stream",
     "text": [
      "https://www.instagram.com/p/B_FdL3GA6px/\n",
      "https://www.instagram.com/p/CcMv5lvLPZN/\n",
      "https://www.instagram.com/p/CHJ5i-PHQBK/\n",
      "https://www.instagram.com/p/CLhFVA0sU9J/\n",
      "https://www.instagram.com/p/CcU_rCvLSUA/\n",
      "https://www.instagram.com/p/CFtYevtH93m/\n",
      "https://www.instagram.com/p/CPZrfFUnME4/\n",
      "https://www.instagram.com/p/CR8BmhfhbwR/\n",
      "https://www.instagram.com/p/CcKfN4UJ0zY/\n",
      "time cost 10.410056114196777 s\n",
      "https://www.instagram.com/p/B_FdL3GA6px/\n",
      "time cost 2.1798171997070312 s\n",
      "圓覺瀑布\n",
      "================================\n",
      "https://www.instagram.com/p/CcMv5lvLPZN/\n",
      "time cost 2.0090982913970947 s\n",
      "大崙頭森林步道\n",
      "================================\n",
      "https://www.instagram.com/p/CHJ5i-PHQBK/\n",
      "time cost 1.5552401542663574 s\n",
      "珍珠菓子\n",
      "================================\n",
      "https://www.instagram.com/p/CLhFVA0sU9J/\n",
      "time cost 1.6556568145751953 s\n",
      "內溝溪賞櫻步道\n",
      "================================\n",
      "https://www.instagram.com/p/CcU_rCvLSUA/\n",
      "time cost 1.673274278640747 s\n",
      "內湖-大崙頭\n",
      "================================\n",
      "https://www.instagram.com/p/CFtYevtH93m/\n",
      "time cost 1.9602324962615967 s\n",
      "龍船岩\n",
      "================================\n",
      "https://www.instagram.com/p/CPZrfFUnME4/\n",
      "time cost 2.066145181655884 s\n",
      "HubAuto\n",
      "================================\n",
      "https://www.instagram.com/p/CR8BmhfhbwR/\n",
      "time cost 1.8832991123199463 s\n",
      "西湖站\n",
      "================================\n",
      "https://www.instagram.com/p/CcKfN4UJ0zY/\n",
      "time cost 1.7628931999206543 s\n",
      "樂活公園\n",
      "================================\n"
     ]
    }
   ],
   "source": [
    "user_input = str(input(\"請輸入\"))\n",
    "if user_input[0]!= \"#\" :\n",
    "    user_input = '#'+user_input\n",
    "Hot_hrefs,All_position_info,All_position_info_loc = user(user_input,IG_driver1)"
   ]
  },
  {
   "cell_type": "markdown",
   "metadata": {},
   "source": [
    "## 多個driver"
   ]
  },
  {
   "cell_type": "code",
   "execution_count": 54,
   "metadata": {},
   "outputs": [
    {
     "name": "stdout",
     "output_type": "stream",
     "text": [
      "driver1Dead\n",
      "create IG driver & login\n",
      "time cost 14.340851545333862 s\n",
      "create Google driver\n",
      "time cost 5.677112340927124 s\n",
      "driver2Dead\n",
      "create IG driver & login\n",
      "time cost 11.20192003250122 s\n",
      "create Google driver\n",
      "time cost 3.860184907913208 s\n",
      "Driver 都建立完成 可以開始搜尋\n"
     ]
    }
   ],
   "source": [
    "def get_status(driver):\n",
    "    try:\n",
    "        driver.execute(Command.STATUS)\n",
    "        return \"Alive\"\n",
    "    except (socket.error, http.client.CannotSendRequest):\n",
    "        return \"Dead\"\n",
    "\n",
    "def check_driver(driver_id = 0): # 檢查是否已有\n",
    "    \n",
    "    status = True\n",
    "    \n",
    "    try:\n",
    "        driver_list[driver_id][0]\n",
    "        driver_list[driver_id][2]\n",
    "        each_driver_status1 = get_status(driver_list[driver_id][1])\n",
    "        each_driver_status2 = get_status(driver_list[driver_id][3])\n",
    "        if each_driver_status1=='Alive' and each_driver_status2=='Alive' :\n",
    "            print('driver'+str(driver_id+1)+'Alive')\n",
    "        else:\n",
    "            print('driver'+str(driver_id+1)+'Dead')\n",
    "            status = False\n",
    "    except:\n",
    "        print('driver'+str(driver_id+1)+'Dead')\n",
    "        status = False\n",
    "        \n",
    "    return status        \n",
    "\n",
    "def user(sight,IG_running_class,IG_driver,Google_running_class,Google_driver):\n",
    "    # 快速提供前端 9篇網址 呈現視覺圖片\n",
    "    Hot_hrefs = IG_running_class.search_Hot_hashtag(sight=sight)\n",
    "    \n",
    "    # 依序提供景點資訊 --> 匹配的到資料庫地點的 (可點選資訊、加到我的最愛)\n",
    "    All_position_info = []\n",
    "    All_position_info_loc = []\n",
    "    for each_href in Hot_hrefs:\n",
    "        print(each_href)\n",
    "        Position_info = IG_running_class.search_hashtag_loaction_info(IG_driver,each_href)\n",
    "        print(Position_info)\n",
    "        All_position_info.append(Position_info)\n",
    "        try: \n",
    "            Spot_position = Spots.index(Position_info)\n",
    "            print('--> Exact match',Spot_position)\n",
    "            All_position_info_loc.append([1,Spot_position])\n",
    "        except:\n",
    "            print('--> Mismatch')\n",
    "            # google map loc\n",
    "            current_spot_loc = Google_running_class.search_loc(Google_driver,Position_info)\n",
    "            All_position_info_loc.append([0,current_spot_loc])\n",
    "        print('================================')\n",
    "        \n",
    "    return Hot_hrefs,All_position_info,All_position_info_loc\n",
    "\n",
    "def user_API(user_input_from_web,driver_status):\n",
    "    user_input = str(user_input_from_web)\n",
    "    if user_input[0]!= \"#\" :\n",
    "        user_input = '#'+user_input\n",
    "\n",
    "    try:\n",
    "        could_run_position = driver_status.index(0)\n",
    "        print('driver'+str(could_run_position+1))\n",
    "        driver_status[could_run_position] = 1\n",
    "        Hot_hrefs,All_position_info,All_position_info_loc = user(user_input,driver_list[could_run_position][0],driver_list[could_run_position][1],driver_list[could_run_position][2],driver_list[could_run_position][3])\n",
    "        driver_status[could_run_position] = 0\n",
    "    except:\n",
    "        print('伺服器繁忙中 請燒等')\n",
    "\n",
    "# driver status\n",
    "try:\n",
    "    print('driver原已存在',driver_status)\n",
    "except:\n",
    "    driver_status = [-1 , -1]\n",
    "\n",
    "\n",
    "driver_status1 = check_driver(driver_id = 0)\n",
    "if driver_status1 == False:\n",
    "    # 搭配動畫過程 登入driver\n",
    "    IG_running_class1 = IG_hot_hasgtag(account_number=\"forin.range.ig@gmail.com\",password=\"forin.range.ig2022\")\n",
    "    IG_driver1 = IG_running_class1.return_driver()\n",
    "    Google_running_class1 = Google_map()\n",
    "    Google_driver1 = Google_running_class1.return_driver()\n",
    "    driver_status[0] = 0\n",
    "\n",
    "driver_status2 = check_driver(driver_id = 1)\n",
    "if driver_status2 == False:\n",
    "    IG_running_class2 = IG_hot_hasgtag(account_number=\"SightsinSight1@gmail.com\",password=\"forin.range.ig2022\")\n",
    "    IG_driver2 = IG_running_class2.return_driver()\n",
    "    Google_running_class2 = Google_map()\n",
    "    Google_driver2 = Google_running_class2.return_driver()\n",
    "    driver_status[1] = 0\n",
    "\n",
    "# driver status\n",
    "driver_list = [ [IG_running_class1,IG_driver1,Google_running_class1,Google_driver1],[IG_running_class2,IG_driver2,Google_running_class2,Google_driver2] ]\n",
    "\n",
    "print('Driver 都建立完成 可以開始搜尋')"
   ]
  },
  {
   "cell_type": "code",
   "execution_count": 55,
   "metadata": {},
   "outputs": [
    {
     "name": "stdout",
     "output_type": "stream",
     "text": [
      "driver1\n",
      "https://www.instagram.com/p/CeL4d32v0rF/\n",
      "https://www.instagram.com/p/CeOYLT4Le4z/\n",
      "https://www.instagram.com/p/CeK1WyWPRvh/\n",
      "https://www.instagram.com/p/CeOINcuLKHa/\n",
      "https://www.instagram.com/p/Cd-0IbNLY4b/\n",
      "https://www.instagram.com/p/CeQAhhHvSc2/\n",
      "https://www.instagram.com/p/CeEbdtUPDON/\n",
      "https://www.instagram.com/p/CePnH6dvWoM/\n",
      "https://www.instagram.com/p/CeEBcdjrUsx/\n",
      "time cost 16.385865211486816 s\n",
      "https://www.instagram.com/p/CeL4d32v0rF/\n",
      "time cost 3.1941070556640625 s\n",
      "淡水區\n",
      "--> Mismatch\n",
      "25.1836779,121.4637702 time cost 5.404783487319946 s\n",
      "================================\n",
      "https://www.instagram.com/p/CeOYLT4Le4z/\n",
      "time cost 2.550586223602295 s\n",
      "Le Méridien Taipei 台北寒舍艾美酒店\n",
      "--> Mismatch\n",
      "25.0565646,121.573223 time cost 5.002887964248657 s\n",
      "================================\n",
      "https://www.instagram.com/p/CeK1WyWPRvh/\n",
      "time cost 2.81349778175354 s\n",
      "寒居酒店 Humble Boutique Hotel\n",
      "--> Mismatch\n",
      "25.0565655,121.5729555 time cost 4.329312086105347 s\n",
      "================================\n",
      "https://www.instagram.com/p/CeOINcuLKHa/\n",
      "time cost 2.6517136096954346 s\n",
      "士林官邸\n",
      "--> Mismatch\n",
      "25.0565655,121.5729555 time cost 4.366322755813599 s\n",
      "================================\n",
      "https://www.instagram.com/p/Cd-0IbNLY4b/\n",
      "time cost 3.1915483474731445 s\n",
      "經國七海文化園區\n",
      "--> Mismatch\n",
      "25.0565646,121.573223 time cost 4.38611912727356 s\n",
      "================================\n",
      "https://www.instagram.com/p/CeQAhhHvSc2/\n",
      "time cost 2.8362176418304443 s\n",
      "淡水沿岸\n",
      "--> Mismatch\n",
      "25.0565655,121.5729555 time cost 4.297355890274048 s\n",
      "================================\n",
      "https://www.instagram.com/p/CeEbdtUPDON/\n",
      "time cost 3.157351016998291 s\n",
      "三峽五寮尖\n",
      "--> Mismatch\n",
      "25.0565646,121.573223 time cost 4.387997627258301 s\n",
      "================================\n",
      "https://www.instagram.com/p/CePnH6dvWoM/\n",
      "time cost 2.763230562210083 s\n",
      "台灣\n",
      "--> Mismatch\n",
      "23.4857501,120.0843006 time cost 4.547566652297974 s\n",
      "================================\n",
      "https://www.instagram.com/p/CeEBcdjrUsx/\n",
      "time cost 3.6984777450561523 s\n",
      "Taiwan Taipei\n",
      "--> Mismatch\n",
      "25.0854061,121.5615012 time cost 4.767168045043945 s\n",
      "================================\n"
     ]
    }
   ],
   "source": [
    "user_input_from_web = '#台北景點'\n",
    "user_id = 1\n",
    "\n",
    "locals()['searching'+str(user_id)] = threading.Thread(target=user_API,args=(user_input_from_web,driver_status)) \n",
    "locals()['searching'+str(user_id)].start()"
   ]
  },
  {
   "cell_type": "code",
   "execution_count": 64,
   "metadata": {},
   "outputs": [
    {
     "data": {
      "text/plain": [
       "[1, 0]"
      ]
     },
     "execution_count": 64,
     "metadata": {},
     "output_type": "execute_result"
    },
    {
     "name": "stdout",
     "output_type": "stream",
     "text": [
      "#台北景點 #台北美食 #華山文創園區 #華山 #忠孝新生 #東區 #短髮女孩 time cost 4.678604602813721 s\n",
      "--> Exact match 5044\n",
      "================================\n",
      "https://www.instagram.com/p/CeLig4UhStv/\n",
      "海芋季、繡球花季\n",
      "#taiwan #taiwancouple #couplegoals #🇹🇼 #台灣景點 #風景 #人物 #📷 #lightroom色調 #情侶 #情侶穿搭 #情侶攝影 #情侶照 #情侶放閃日記 #網美景點 #網美集散地 #台北景點 #北投 #海芋 time cost 4.980398893356323 s\n",
      "--> Mismatch\n"
     ]
    }
   ],
   "source": [
    "driver_status"
   ]
  },
  {
   "cell_type": "code",
   "execution_count": 65,
   "metadata": {},
   "outputs": [
    {
     "name": "stdout",
     "output_type": "stream",
     "text": [
      "driver2\n",
      "25.051136,121.5954944 time cost 4.497986555099487 s\n",
      "================================\n",
      "https://www.instagram.com/p/CeLxm_gr9R5/\n",
      "https://www.instagram.com/p/CeJHlovvGf9/\n",
      "https://www.instagram.com/p/CeLm3hAJYxT/\n",
      "https://www.instagram.com/p/CeLqoEnpYqo/\n",
      "https://www.instagram.com/p/CeKzDlCv3tP/\n",
      "https://www.instagram.com/p/CeLVaXtLAC5/\n",
      "https://www.instagram.com/p/CeAv5vNr28g/\n",
      "https://www.instagram.com/p/CeILXLuuHyR/\n",
      "https://www.instagram.com/p/CeLZXA0LE1l/\n",
      "https://www.instagram.com/p/CeFPdUqvkO9/\n",
      "time cost 5.762398719787598 s\n",
      "https://www.instagram.com/p/CeJHlovvGf9/\n",
      "松山文創園區 SCCP Taipei\n",
      "#原樂好市 #豐年祭 #必買 #原樂好市 #好事會發生 #原民主題選品店 #原住民16族 #原住民 #排灣族 #台北 #台北景點 #松菸 #雨天好去處 #旅遊 time cost 4.909970760345459 s\n",
      "--> Mismatch\n"
     ]
    }
   ],
   "source": [
    "user_input_from_web = '#台中景點'\n",
    "user_id = 2\n",
    "\n",
    "locals()['searching'+str(user_id)] = threading.Thread(target=user_API,args=(user_input_from_web,driver_status)) \n",
    "locals()['searching'+str(user_id)].start()"
   ]
  },
  {
   "cell_type": "code",
   "execution_count": 66,
   "metadata": {},
   "outputs": [
    {
     "data": {
      "text/plain": [
       "[1, 1]"
      ]
     },
     "execution_count": 66,
     "metadata": {},
     "output_type": "execute_result"
    },
    {
     "name": "stdout",
     "output_type": "stream",
     "text": [
      "泰安車站\n",
      "#圖片 #照片 #photography #photo #picture #鐵道 #鐵道攝影 #鐵道迷 #火車 #普悠瑪 #小小兵 #交會 #台灣 #台灣景點 #台灣鐵道 #台中景點 #台中 25.051136,121.5954944 time cost 4.258234977722168 s\n",
      "================================\n",
      "https://www.instagram.com/p/CeDQx8VFr_H/\n",
      "#2022臺灣鉄道紀實 #canon #canonphotography #canonphoto #canontaiwan #taiwanrailway #taiwan #railway #railwayphotography #railways_of_our_world #taichung #emu800 #temu2000 time cost 5.33915376663208 s\n",
      "--> Mismatch\n",
      "阿妹茶樓\n",
      "#47食樂天地 #九份 #九份老街 #九份景點 #新北景點 #台北景點 #台北 #金瓜石 #金瓜石景點 #新北景點 #台北旅遊 #九份美食 #47食樂天地 #九份 #九份老街 #九份景點 #新北景點 #台北景點 #台北 #金瓜石 #金瓜石景點 #新北景點 #台北旅遊 #九份美食 time cost 3.3296215534210205 s\n",
      "--> Mismatch\n",
      "25.051136,121.5954944 time cost 4.145045518875122 s\n",
      "================================\n",
      "https://www.instagram.com/p/CeLm3hAJYxT/\n",
      "25.051136,121.5954944 time cost 4.078489542007446 s\n",
      "================================\n",
      "https://www.instagram.com/p/CeEbdtUPDON/\n",
      "三峽五寮尖\n",
      "#naturephotography #mountains #explore #outdoors #outdoorphotography #landscape #naturelover #hiking #natgeo #山 #台北景點 #五寮尖 #峭壁雄風 #獨立峰 #三峽 time cost 4.268164157867432 s\n",
      "--> Mismatch\n",
      "921地震教育園區\n",
      "#clotty #韓國潮牌 #tshirts #ootd #休閒風 #韓國女裝 #台中 #台中景點 #霧峰景點 #台中旅遊 #黑色穿搭 time cost 9.849246263504028 s\n",
      "--> Mismatch\n",
      "25.051136,121.5954944 time cost 4.415128469467163 s\n",
      "================================\n",
      "https://www.instagram.com/p/Cd-0IbNLY4b/\n"
     ]
    }
   ],
   "source": [
    "driver_status"
   ]
  },
  {
   "cell_type": "code",
   "execution_count": 67,
   "metadata": {},
   "outputs": [
    {
     "name": "stdout",
     "output_type": "stream",
     "text": [
      "伺服器繁忙中 請燒等\n",
      "25.051136,121.5954944 time cost 4.28732705116272 s\n",
      "================================\n",
      "https://www.instagram.com/p/CeLqoEnpYqo/\n",
      "經國七海文化園區\n",
      "#台北景點 #秘境 #七海潭 #劍潭山 #七海寓所 #古蹟 #大直 #經國七海文化園區 #北安路 #taipei #photooftheday #attraction time cost 4.392855644226074 s\n",
      "--> Mismatch\n",
      "台中市\n",
      "#taiwan_dream #bpintaiwan #taiwan1 #amazingtaiwan #amazingtaipei #we_are_now_in #eventtaiwan #taiwan_destinations #excellent_asia #vscotaiwan #viewtaiwan #discovertaiwan #skyluminjiufen #iseetaiwan #bns_taiwan #台中景點 #台中美食 #台中 #旅遊 time cost 3.4277656078338623 s\n",
      "--> Mismatch\n"
     ]
    }
   ],
   "source": [
    "user_input_from_web = '#高雄景點'\n",
    "user_id = 3\n",
    "\n",
    "locals()['searching'+str(user_id)] = threading.Thread(target=user_API,args=(user_input_from_web,driver_status)) \n",
    "locals()['searching'+str(user_id)].start()"
   ]
  },
  {
   "cell_type": "code",
   "execution_count": 68,
   "metadata": {},
   "outputs": [
    {
     "data": {
      "text/plain": [
       "[1, 1]"
      ]
     },
     "execution_count": 68,
     "metadata": {},
     "output_type": "execute_result"
    },
    {
     "name": "stdout",
     "output_type": "stream",
     "text": [
      "25.051136,121.5954944 time cost 4.171757698059082 s\n",
      "================================\n",
      "https://www.instagram.com/p/CeIcAwJLBrF/\n",
      "24.2201031,120.9558744 time cost 4.368159770965576 s\n",
      "================================\n",
      "https://www.instagram.com/p/CeKzDlCv3tP/\n",
      "牛仔莊園\n",
      "#台灣景點 #打卡景點 #風景攝影 #綺麗 #網美集散地 MINIMAL\n",
      "#台北景點 #牛仔莊園 #gelato #mook景點家 #icecream #taipeitravel #ootd #bpintaiwan #mensfashion #discover_taiwan #summer #tripmoment #inteior #igerstaiwan #interiordesign #im_readygo #coffee #taiwantravelmap #cafe #popdaily #brunch #instagram #wantogo #instadaily #watchthisinstagood #instagood #viewtaiwan #weekend #amazingtaiwan #sunday #trip_packer #decor #taiwan_dream #gallery #ig_taiwan #design #amazingtaiwan #art #im_readygo #台中咖啡廳 #taiwantravelmap time cost 6.22224497795105 s#台中展覽 \n",
      "--> Mismatch\n",
      "#台中景點 #台中 #咖啡廳 #試營運 #新店報報 #冰淇淋 #so_cool time cost 4.4478538036346436 s\n",
      "--> Mismatch\n",
      "25.051136,121.5954944 time cost 4.310565948486328 s\n",
      "================================\n",
      "25.051136,121.5954944 time cost 4.3720862865448 s\n",
      "================================\n",
      "https://www.instagram.com/p/CeLVaXtLAC5/\n",
      "통통커피 Tongtong Coffee\n",
      "#台中北屯區 #台中美食 #台中甜點 #外帶美食 #台中咖啡廳 #台中新店 #台中景點 #鬆餅 time cost 4.47093939781189 s\n",
      "--> Mismatch\n",
      "25.051136,121.5954944 time cost 4.106725215911865 s\n",
      "================================\n",
      "https://www.instagram.com/p/CeAv5vNr28g/\n",
      "審計新村\n",
      "#台中 #台中景點 #審計新村 #台中西區 time cost 3.1707041263580322 s\n",
      "--> Exact match 1839\n",
      "================================\n",
      "https://www.instagram.com/p/CeILXLuuHyR/\n",
      "OMOMO 韓系飲品咖啡廳\n",
      "#OMOMO #keke去台中 #台中 #台中打卡 #台中景點 #台中咖啡廳 #omomo #家庭旅遊 #情侶約會 #多人出遊 #旅遊度假 #IG打卡 #網美打卡 #網美集散地 time cost 4.971561431884766 s\n",
      "--> Mismatch\n",
      "25.051136,121.5954944 time cost 4.436880588531494 s\n",
      "================================\n",
      "https://www.instagram.com/p/CeLZXA0LE1l/\n",
      "谷關溫泉飯店\n",
      "#溫泉 #谷關 #台中景點 #台灣旅遊 #健行 #爬山 #跑步 #谷關七雄 #白冷冰棒 #taiwan #taiwanmountain #taichung #hotsprings #mountain #nature #travel #hiking #hike #running #trip #taiwantravel time cost 4.724472999572754 s\n",
      "--> Mismatch\n",
      "25.051136,121.5954944 time cost 4.393452167510986 s\n",
      "================================\n",
      "https://www.instagram.com/p/CeFPdUqvkO9/\n",
      "勤美 誠品綠園道\n",
      "#halfcamera #olympuspenee3 #ee3 #kodakcolorplus200 #instagood #icecream #film #filmphotography #fujifilm #reco_ig #daily #filmintaiwan #indies_gram #カメラのある生活 #portrait #good_portraits_world #iedemo_graphy #picsfilm2 #sunday_film_ #フィルム #写真好きな人と繋がりたい #フィルム写真普及委員会 #フィルム寫眞 #フィルムに恋してる #ふぃるむ寫眞 #フィルムカメラに恋してる #フィルムで綴る日々のこと #台中景點 #日常に魔法をかけて time cost 5.913491487503052 s\n",
      "--> Mismatch\n",
      "25.051136,121.5954944 time cost 4.284005403518677 s\n",
      "================================\n"
     ]
    }
   ],
   "source": [
    "driver_status"
   ]
  },
  {
   "cell_type": "code",
   "execution_count": 19,
   "metadata": {},
   "outputs": [],
   "source": [
    "import time"
   ]
  },
  {
   "cell_type": "code",
   "execution_count": 24,
   "metadata": {},
   "outputs": [
    {
     "name": "stdout",
     "output_type": "stream",
     "text": [
      "1\n",
      "2\n",
      "3\n"
     ]
    }
   ],
   "source": [
    "\n",
    "\n",
    "def run(time_,list_save):\n",
    "#     yield(1)\n",
    "    time.sleep(time_)\n",
    "#     yield(2)\n",
    "#     print(time_)\n",
    "    list_save.append(time_)\n",
    "#     yield(1,2)\n",
    "   \n",
    "def running():\n",
    "    list_save = []\n",
    "    S1 = threading.Thread(target=run,args=(2,list_save))\n",
    "    b1 = S1.start()\n",
    "    S2 = threading.Thread(target=run,args=(3,list_save))\n",
    "    b2 = S2.start()\n",
    "    # a = S.start()\n",
    "    # for e in a :\n",
    "    #     print(e)\n",
    "    print(1)\n",
    "    while len(list_save) != 1:\n",
    "        not_yet = True\n",
    "#     print(list_save[0])\n",
    "    yield list_save[0]\n",
    "    while len(list_save) != 2:\n",
    "        not_yet = True\n",
    "#     print(list_save[1])\n",
    "    yield list_save[1]\n",
    "    \n",
    "X = running()\n",
    "for x in X :\n",
    "    print(x)"
   ]
  },
  {
   "cell_type": "code",
   "execution_count": 25,
   "metadata": {},
   "outputs": [
    {
     "name": "stdout",
     "output_type": "stream",
     "text": [
      "None\n"
     ]
    }
   ],
   "source": [
    "print(b)"
   ]
  },
  {
   "cell_type": "code",
   "execution_count": 15,
   "metadata": {},
   "outputs": [
    {
     "ename": "AttributeError",
     "evalue": "'Thread' object has no attribute 'get'",
     "output_type": "error",
     "traceback": [
      "\u001b[1;31m---------------------------------------------------------------------------\u001b[0m",
      "\u001b[1;31mAttributeError\u001b[0m                            Traceback (most recent call last)",
      "\u001b[1;32m<ipython-input-15-6216ade66dd0>\u001b[0m in \u001b[0;36m<module>\u001b[1;34m\u001b[0m\n\u001b[1;32m----> 1\u001b[1;33m \u001b[0mS\u001b[0m\u001b[1;33m.\u001b[0m\u001b[0mget\u001b[0m\u001b[1;33m(\u001b[0m\u001b[1;33m)\u001b[0m\u001b[1;33m\u001b[0m\u001b[1;33m\u001b[0m\u001b[0m\n\u001b[0m",
      "\u001b[1;31mAttributeError\u001b[0m: 'Thread' object has no attribute 'get'"
     ]
    }
   ],
   "source": [
    "S."
   ]
  },
  {
   "cell_type": "code",
   "execution_count": null,
   "metadata": {},
   "outputs": [],
   "source": []
  }
 ],
 "metadata": {
  "kernelspec": {
   "display_name": "NLP",
   "language": "python",
   "name": "nlp"
  },
  "language_info": {
   "codemirror_mode": {
    "name": "ipython",
    "version": 3
   },
   "file_extension": ".py",
   "mimetype": "text/x-python",
   "name": "python",
   "nbconvert_exporter": "python",
   "pygments_lexer": "ipython3",
   "version": "3.6.12"
  }
 },
 "nbformat": 4,
 "nbformat_minor": 4
}
