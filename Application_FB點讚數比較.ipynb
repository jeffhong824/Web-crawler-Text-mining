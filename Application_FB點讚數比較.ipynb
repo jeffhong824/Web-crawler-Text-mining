{
 "cells": [
  {
   "cell_type": "code",
   "execution_count": 1,
   "metadata": {},
   "outputs": [],
   "source": [
    "from selenium.webdriver import Chrome\n",
    "from selenium.webdriver.chrome.options import Options\n",
    "from bs4 import BeautifulSoup\n",
    "from time import sleep\n",
    "import pandas as pd"
   ]
  },
  {
   "cell_type": "code",
   "execution_count": 6,
   "metadata": {},
   "outputs": [],
   "source": [
    "list_name = ['POI：旅 · 筆記','★ 台灣ㄟ虛擬導遊APP - Virtual tour guide in Taiwan','★ 「踏」出舒適圈 - 多功能腳踏車APP','Omnis 海上船舶航速優化系統','VIP高速公路','友善食光機','巴巴走','SAY YES！']\n",
    "list_link = [\n",
    "'https://www.facebook.com/tdxstartup/photos/a.143749001387829/145240997905296/',\n",
    "'https://www.facebook.com/tdxstartup/photos/a.143749001387829/144175644678498',\n",
    "'https://www.facebook.com/tdxstartup/photos/a.143749001387829/144577044638358/',\n",
    "'https://www.facebook.com/tdxstartup/photos/a.143749001387829/150835667345829/',\n",
    "'https://www.facebook.com/tdxstartup/photos/a.143749001387829/147520441010685/',\n",
    "'https://www.facebook.com/tdxstartup/photos/a.143749001387829/145694187859977/',\n",
    "'https://www.facebook.com/tdxstartup/photos/a.143749001387829/144389104657152/',\n",
    "'https://www.facebook.com/tdxstartup/photos/a.143749001387829/145549794541083/',\n",
    "]\n",
    "\n",
    "def find_string(soup,text,end):\n",
    "    start = soup.rfind(text) + len(text)\n",
    "    end = soup[start:].find(end) + start\n",
    "    return soup[start:end],start"
   ]
  },
  {
   "cell_type": "code",
   "execution_count": 10,
   "metadata": {},
   "outputs": [],
   "source": [
    "def FB_web_crawler():\n",
    "\n",
    "    chrome_options = Options()\n",
    "    chrome_options.add_argument('--headless')\n",
    "    driver = Chrome(chrome_options=chrome_options)\n",
    "\n",
    "    List = []\n",
    "    for each_project in range(len(list_name)):\n",
    "        driver.get(list_link[each_project])\n",
    "        sleep(2)\n",
    "        soup = str(BeautifulSoup(driver.page_source, 'html.parser'))\n",
    "        print(list_name[each_project],end = ' ')\n",
    "        A,a = find_string(soup,'<span class=\"pcp91wgn\">','</span>')\n",
    "        B,b = find_string(soup,'<span class=\"d2edcug0 hpfvmrgz qv66sw1b c1et5uql lr9zc1uh a8c37x1j fe6kdd0r mau55g9w c8b282yb keod5gw0 nxhoafnm aigsh9s9 d3f4x2em iv3no6db jq4qci2q a3bd9o3v b1v8xokw m9osqain\" dir=\"auto\">','次分享</span>')\n",
    "        if a != -1 and b != -1 :\n",
    "            print(A,end = '+')\n",
    "            print(B,end = '=')\n",
    "            C = int(A)+int(B)\n",
    "            print(C)\n",
    "            List.append([list_name[each_project],A,B,C])\n",
    "\n",
    "    driver.quit()\n",
    "\n",
    "    df = pd.DataFrame(List,columns=['Name','讚','分享','Score'],index=[num for num in range(1,len(List)+1)])\n",
    "    df = df.sort_values(by='Score', ascending=False)\n",
    "    \n",
    "    return df"
   ]
  },
  {
   "cell_type": "code",
   "execution_count": 13,
   "metadata": {},
   "outputs": [
    {
     "name": "stderr",
     "output_type": "stream",
     "text": [
      "C:\\Users\\Tingchun.TC.Hung\\Anaconda3\\envs\\NLP\\lib\\site-packages\\ipykernel_launcher.py:5: DeprecationWarning: use options instead of chrome_options\n",
      "  \"\"\"\n"
     ]
    },
    {
     "name": "stdout",
     "output_type": "stream",
     "text": [
      "POI：旅 · 筆記 263+40=303\n",
      "★ 台灣ㄟ虛擬導遊APP - Virtual tour guide in Taiwan 238+42=280\n",
      "★ 「踏」出舒適圈 - 多功能腳踏車APP 227+33=260\n",
      "Omnis 海上船舶航速優化系統 218+30=248\n",
      "VIP高速公路 211+29=240\n",
      "友善食光機 186+16=202\n",
      "巴巴走 152+47=199\n",
      "SAY YES！ 113+58=171\n"
     ]
    }
   ],
   "source": [
    "df = FB_web_crawler()"
   ]
  },
  {
   "cell_type": "code",
   "execution_count": 14,
   "metadata": {},
   "outputs": [
    {
     "data": {
      "text/html": [
       "<div>\n",
       "<style scoped>\n",
       "    .dataframe tbody tr th:only-of-type {\n",
       "        vertical-align: middle;\n",
       "    }\n",
       "\n",
       "    .dataframe tbody tr th {\n",
       "        vertical-align: top;\n",
       "    }\n",
       "\n",
       "    .dataframe thead th {\n",
       "        text-align: right;\n",
       "    }\n",
       "</style>\n",
       "<table border=\"1\" class=\"dataframe\">\n",
       "  <thead>\n",
       "    <tr style=\"text-align: right;\">\n",
       "      <th></th>\n",
       "      <th>Name</th>\n",
       "      <th>讚</th>\n",
       "      <th>分享</th>\n",
       "      <th>Score</th>\n",
       "    </tr>\n",
       "  </thead>\n",
       "  <tbody>\n",
       "    <tr>\n",
       "      <th>1</th>\n",
       "      <td>POI：旅 · 筆記</td>\n",
       "      <td>263</td>\n",
       "      <td>40</td>\n",
       "      <td>303</td>\n",
       "    </tr>\n",
       "    <tr>\n",
       "      <th>2</th>\n",
       "      <td>★ 台灣ㄟ虛擬導遊APP - Virtual tour guide in Taiwan</td>\n",
       "      <td>238</td>\n",
       "      <td>42</td>\n",
       "      <td>280</td>\n",
       "    </tr>\n",
       "    <tr>\n",
       "      <th>3</th>\n",
       "      <td>★ 「踏」出舒適圈 - 多功能腳踏車APP</td>\n",
       "      <td>227</td>\n",
       "      <td>33</td>\n",
       "      <td>260</td>\n",
       "    </tr>\n",
       "    <tr>\n",
       "      <th>4</th>\n",
       "      <td>Omnis 海上船舶航速優化系統</td>\n",
       "      <td>218</td>\n",
       "      <td>30</td>\n",
       "      <td>248</td>\n",
       "    </tr>\n",
       "    <tr>\n",
       "      <th>5</th>\n",
       "      <td>VIP高速公路</td>\n",
       "      <td>211</td>\n",
       "      <td>29</td>\n",
       "      <td>240</td>\n",
       "    </tr>\n",
       "    <tr>\n",
       "      <th>6</th>\n",
       "      <td>友善食光機</td>\n",
       "      <td>186</td>\n",
       "      <td>16</td>\n",
       "      <td>202</td>\n",
       "    </tr>\n",
       "    <tr>\n",
       "      <th>7</th>\n",
       "      <td>巴巴走</td>\n",
       "      <td>152</td>\n",
       "      <td>47</td>\n",
       "      <td>199</td>\n",
       "    </tr>\n",
       "    <tr>\n",
       "      <th>8</th>\n",
       "      <td>SAY YES！</td>\n",
       "      <td>113</td>\n",
       "      <td>58</td>\n",
       "      <td>171</td>\n",
       "    </tr>\n",
       "  </tbody>\n",
       "</table>\n",
       "</div>"
      ],
      "text/plain": [
       "                                          Name    讚  分享  Score\n",
       "1                                   POI：旅 · 筆記  263  40    303\n",
       "2  ★ 台灣ㄟ虛擬導遊APP - Virtual tour guide in Taiwan  238  42    280\n",
       "3                        ★ 「踏」出舒適圈 - 多功能腳踏車APP  227  33    260\n",
       "4                             Omnis 海上船舶航速優化系統  218  30    248\n",
       "5                                      VIP高速公路  211  29    240\n",
       "6                                        友善食光機  186  16    202\n",
       "7                                          巴巴走  152  47    199\n",
       "8                                     SAY YES！  113  58    171"
      ]
     },
     "execution_count": 14,
     "metadata": {},
     "output_type": "execute_result"
    }
   ],
   "source": [
    "df"
   ]
  },
  {
   "cell_type": "code",
   "execution_count": null,
   "metadata": {},
   "outputs": [],
   "source": []
  }
 ],
 "metadata": {
  "kernelspec": {
   "display_name": "NLP",
   "language": "python",
   "name": "nlp"
  },
  "language_info": {
   "codemirror_mode": {
    "name": "ipython",
    "version": 3
   },
   "file_extension": ".py",
   "mimetype": "text/x-python",
   "name": "python",
   "nbconvert_exporter": "python",
   "pygments_lexer": "ipython3",
   "version": "3.6.12"
  }
 },
 "nbformat": 4,
 "nbformat_minor": 4
}
