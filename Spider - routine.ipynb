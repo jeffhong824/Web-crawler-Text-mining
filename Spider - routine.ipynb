{
 "cells": [
  {
   "cell_type": "markdown",
   "metadata": {},
   "source": [
    "# use firefox"
   ]
  },
  {
   "cell_type": "code",
   "execution_count": 1,
   "metadata": {},
   "outputs": [
    {
     "name": "stderr",
     "output_type": "stream",
     "text": [
      "C:\\Users\\student\\Anaconda3\\lib\\site-packages\\ipykernel_launcher.py:13: DeprecationWarning: use options instead of chrome_options\n",
      "  del sys.path[0]\n"
     ]
    }
   ],
   "source": [
    "import time\n",
    "from selenium import webdriver\n",
    "from selenium.webdriver.chrome.options import Options\n",
    "from selenium.webdriver.common.keys import Keys\n",
    "from selenium.webdriver.support.ui import Select\n",
    "from selenium.webdriver.common.by import By\n",
    "from bs4 import BeautifulSoup\n",
    "from urllib.request import urlopen\n",
    "import re\n",
    "\n",
    "chrome_options=Options()\n",
    "#chrome_options.add_argument('--headless') #無介面操作\n",
    "driver = webdriver.Chrome(chrome_options=chrome_options)\n",
    "\n",
    "driver.get(\"https://www.wikipedia.org/\")\n",
    "time.sleep(5)\n",
    "driver.find_element_by_id(\"searchInput\").send_keys(u\"自動\")\n",
    "time.sleep(0.5)\n",
    "driver.find_element_by_id(\"searchInput\").send_keys(u\"爬\")\n",
    "time.sleep(0.5)\n",
    "driver.find_element_by_id(\"searchInput\").send_keys(u\"蟲\")\n",
    "time.sleep(0.5)\n",
    "driver.find_element_by_id(\"searchInput\").send_keys(u\"程\")\n",
    "time.sleep(0.5)\n",
    "driver.find_element_by_id(\"searchInput\").send_keys(u\"式\")\n",
    "time.sleep(1)\n",
    "driver.find_element_by_id(\"searchInput\").clear()\n",
    "driver.find_element_by_id(\"searchInput\").send_keys(u\"前往中央大學電機系網站\")\n",
    "time.sleep(0.5)\n",
    "driver.get(\"https://www.google.com/search?client=firefox-b-d&q=%E4%B8%AD%E5%A4%AE%E5%A4%A7%E5%AD%B8%E9%9B%BB%E6%A9%9F%E7%B3%BB\")\n",
    "time.sleep(0.5)\n",
    "driver.find_element_by_xpath(u\"(.//*[normalize-space(text()) and normalize-space(.)='網頁搜尋結果'])[1]/following::h3[1]\").click()\n",
    "time.sleep(0.5)\n",
    "driver.get(\"https://www.wikipedia.org/\")\n",
    "driver.find_element_by_id(\"searchInput\").send_keys(u\"快速瀏覽各種網站\")\n",
    "driver.get(\"https://www.google.com/search?q=%E5%BF%AB%E9%80%9F%E7%80%8F%E8%A6%BD%E5%90%84%E7%A8%AE%E7%B6%B2%E7%AB%99&oq=%E5%BF%AB%E9%80%9F%E7%80%8F%E8%A6%BD%E5%90%84%E7%A8%AE%E7%B6%B2%E7%AB%99&aqs=chrome..69i57.6719j0j4&sourceid=chrome&ie=UTF-8\")\n",
    "driver.get(\"https://www.youtube.com/\")\n",
    "driver.get(\"https://www.cwb.gov.tw/V8/C/\")\n",
    "time.sleep(0.5)\n",
    "\n",
    "driver.close()\n",
    "driver.quit()\n"
   ]
  },
  {
   "cell_type": "markdown",
   "metadata": {},
   "source": [
    "# use xpath"
   ]
  },
  {
   "cell_type": "code",
   "execution_count": 2,
   "metadata": {},
   "outputs": [
    {
     "name": "stderr",
     "output_type": "stream",
     "text": [
      "C:\\Users\\student\\Anaconda3\\lib\\site-packages\\ipykernel_launcher.py:6: DeprecationWarning: use options instead of chrome_options\n",
      "  \n"
     ]
    },
    {
     "name": "stdout",
     "output_type": "stream",
     "text": [
      "小心「肝」增進新陳代謝！　減肥成功不是夢\n"
     ]
    }
   ],
   "source": [
    "from selenium import webdriver\n",
    "from selenium.webdriver.chrome.options import Options\n",
    "\n",
    "chrome_options=Options()\n",
    "chrome_options.add_argument('--headless')#無介面操作\n",
    "driver = webdriver.Chrome(chrome_options=chrome_options)\n",
    "\n",
    "driver.get(\"https://www.healthnews.com.tw/news/article/42650\")  # 先嘗試開網站\n",
    "elem1 = driver.find_element_by_xpath('//*[@id=\"latestblog\"]/div/h1/span/a').text\n",
    "print(elem1)\n",
    "\n",
    "driver.close()\n",
    "driver.quit()"
   ]
  },
  {
   "cell_type": "code",
   "execution_count": null,
   "metadata": {},
   "outputs": [],
   "source": []
  }
 ],
 "metadata": {
  "kernelspec": {
   "display_name": "Python 3",
   "language": "python",
   "name": "python3"
  },
  "language_info": {
   "codemirror_mode": {
    "name": "ipython",
    "version": 3
   },
   "file_extension": ".py",
   "mimetype": "text/x-python",
   "name": "python",
   "nbconvert_exporter": "python",
   "pygments_lexer": "ipython3",
   "version": "3.7.3"
  }
 },
 "nbformat": 4,
 "nbformat_minor": 2
}
