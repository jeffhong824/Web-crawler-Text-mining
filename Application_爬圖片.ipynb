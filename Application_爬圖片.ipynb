{
 "cells": [
  {
   "cell_type": "code",
   "execution_count": 2,
   "metadata": {},
   "outputs": [],
   "source": [
    "from selenium import webdriver\n",
    "from time import sleep\n",
    "import urllib\n",
    "from selenium.webdriver.chrome.options import Options\n",
    "from os import listdir,path,rename,walk,makedirs\n",
    "from bs4 import BeautifulSoup\n",
    "import requests"
   ]
  },
  {
   "cell_type": "code",
   "execution_count": 3,
   "metadata": {},
   "outputs": [],
   "source": [
    "save_path = 'C:/Users/Tingchun.TC.Hung/Desktop/Record/PCR Electrophoresis/'"
   ]
  },
  {
   "cell_type": "markdown",
   "metadata": {},
   "source": [
    "## 爬下所有圖片 ver1"
   ]
  },
  {
   "cell_type": "code",
   "execution_count": 12,
   "metadata": {},
   "outputs": [
    {
     "name": "stdin",
     "output_type": "stream",
     "text": [
      "請輸入關鍵字 triplex-forming oligonucleotide\n"
     ]
    },
    {
     "name": "stderr",
     "output_type": "stream",
     "text": [
      "C:\\Users\\Tingchun.TC.Hung\\Anaconda3\\envs\\NLP\\lib\\site-packages\\ipykernel_launcher.py:5: DeprecationWarning: use options instead of chrome_options\n",
      "  \"\"\"\n",
      "C:\\Users\\Tingchun.TC.Hung\\Anaconda3\\envs\\NLP\\lib\\site-packages\\ipykernel_launcher.py:6: DeprecationWarning: use options instead of chrome_options\n",
      "  \n",
      "C:\\Users\\Tingchun.TC.Hung\\Anaconda3\\envs\\NLP\\lib\\site-packages\\ipykernel_launcher.py:7: DeprecationWarning: use options instead of chrome_options\n",
      "  import sys\n"
     ]
    },
    {
     "name": "stdout",
     "output_type": "stream",
     "text": [
      "Page of 60\n",
      "Items: 1 to 20 of 1186\n"
     ]
    },
    {
     "name": "stdin",
     "output_type": "stream",
     "text": [
      "想爬前多少篇文章 2\n"
     ]
    },
    {
     "name": "stdout",
     "output_type": "stream",
     "text": [
      "PMC6608751\n",
      "Author manuscript; available in PMC 2019 Jul 3\n",
      "Therapeutic Genome Mutagenesis Using Synthetic Donor DNA and Triplex-Forming Molecules\n",
      "https://www.ncbi.nlm.nih.gov/pmc/articles/PMC6608751/figure/nihms-1027455-f0001/\n",
      "https://www.ncbi.nlm.nih.gov/pmc/articles/PMC6608751/figure/nihms-1027455-f0002/\n",
      "https://www.ncbi.nlm.nih.gov/pmc/articles/PMC6608751/figure/nihms-1027455-f0003/\n",
      "https://www.ncbi.nlm.nih.gov/pmc/articles/PMC6608751/figure/nihms-1027455-f0005/\n",
      "https://www.ncbi.nlm.nih.gov/pmc/articles/PMC6608751/figure/nihms-1027455-f0004/\n",
      "https://www.ncbi.nlm.nih.gov/pmc/articles/PMC6608751/figure/nihms-1027455-f0006/\n",
      "PMC3589157\n",
      "2013 Mar\n",
      "Triplex-forming Peptide Nucleic Acids Induce Heritable Elevations in Gamma-globin Expression in Hematopoietic Progenitor Cells\n",
      "https://www.ncbi.nlm.nih.gov/pmc/articles/PMC3589157/figure/mt2012262f1/\n",
      "https://www.ncbi.nlm.nih.gov/pmc/articles/PMC3589157/figure/mt2012262f2/\n",
      "https://www.ncbi.nlm.nih.gov/pmc/articles/PMC3589157/figure/mt2012262f3/\n",
      "https://www.ncbi.nlm.nih.gov/pmc/articles/PMC3589157/figure/mt2012262f4/\n"
     ]
    }
   ],
   "source": [
    "target = input('請輸入關鍵字')\n",
    "\n",
    "chrome_options=Options()\n",
    "chrome_options.add_argument('--headless')#無介面操作\n",
    "driver = webdriver.Chrome(chrome_options=chrome_options)\n",
    "driver2 = webdriver.Chrome(chrome_options=chrome_options)\n",
    "driver3 = webdriver.Chrome(chrome_options=chrome_options)\n",
    "\n",
    "driver.get(\"https://www.ncbi.nlm.nih.gov/pmc/?term=\"+target)\n",
    "\n",
    "with open(save_path+'統計.txt','a',encoding='utf-8') as file :\n",
    "    pages = driver.find_element_by_xpath('//*[@id=\"maincontent\"]/div/div[7]/div/h3').text\n",
    "    file.write(pages+'\\n')\n",
    "    print(pages)\n",
    "    papers = driver.find_element_by_xpath('//*[@id=\"maincontent\"]/div/div[3]/div[1]/h3').text\n",
    "    file.write(papers+'\\n')\n",
    "    print(papers)\n",
    "    file.write('\\n\\n')\n",
    "\n",
    "    target_papers_numbers = int(input('想爬前多少篇文章'))\n",
    "    file.write('以下共'+str(target_papers_numbers)+'篇\\n')\n",
    "    \n",
    "    while(target_papers_numbers!=0):\n",
    "        for top_20 in range(1,21):\n",
    "            if(target_papers_numbers!=0):\n",
    "                ID = driver.find_element_by_xpath('//*[@id=\"maincontent\"]/div/div[5]/div['+str(top_20)+']/div[2]/div[4]/div/dl/dd').text\n",
    "                file.write('ID : '+ID+'\\n')\n",
    "                print(ID)\n",
    "                year = driver.find_element_by_xpath('//*[@id=\"maincontent\"]/div/div[5]/div['+str(top_20)+']/div[2]/div[3]/div[2]/span[1]').text[:-1]\n",
    "                file.write('year : '+year+'\\n')\n",
    "                print(year)\n",
    "                Title = driver.find_element_by_xpath('//*[@id=\"maincontent\"]/div/div[5]/div['+str(top_20)+']/div[2]/div[2]').text\n",
    "                file.write('Title : '+Title+'\\n')\n",
    "                print(Title)\n",
    "                # last_page = pages.split()[-1]\n",
    "\n",
    "                # want_last_page = input()\n",
    "\n",
    "\n",
    "                driver2.get('https://www.ncbi.nlm.nih.gov/pmc/articles/'+ID+'/')\n",
    "                xpath = 'img'\n",
    "\n",
    "                fig = 1\n",
    "\n",
    "                for element in driver2.find_elements_by_tag_name(xpath):\n",
    "                    try:\n",
    "                        img_url = element.get_attribute('src')\n",
    "                        if(img_url[:42]==\"https://www.ncbi.nlm.nih.gov/pmc/articles/\"):\n",
    "                            fig_name = img_url[img_url.rfind('/')+1:-4]\n",
    "                            fig_link = 'https://www.ncbi.nlm.nih.gov/pmc/articles/'+ID+'/figure/'+fig_name+'/'\n",
    "                            print(fig_link)\n",
    "                            file.write(fig_link+'\\n')\n",
    "                            driver3.get(fig_link)\n",
    "#                             text = driver3.find_element_by_xpath('//*[@id=\"'+fig_name+'\"]').text\n",
    "#                             print(text)\n",
    "                            urllib.request.urlretrieve(img_url, save_path+ID+'_'+str(fig)+'.jpg')\n",
    "                            fig += 1\n",
    "                    except:\n",
    "                        no_xpath = True\n",
    "                file.write('\\n')\n",
    "                target_papers_numbers -= 1\n",
    "        driver.find_element_by_xpath(\"(//a[contains(text(),'Next >')])[2]\").click()\n",
    "        \n",
    "driver.quit()\n",
    "driver2.quit()\n",
    "driver3.quit()"
   ]
  },
  {
   "cell_type": "code",
   "execution_count": 20,
   "metadata": {},
   "outputs": [
    {
     "name": "stderr",
     "output_type": "stream",
     "text": [
      "C:\\Users\\Tingchun.TC.Hung\\Anaconda3\\envs\\NLP\\lib\\site-packages\\ipykernel_launcher.py:5: DeprecationWarning: use options instead of chrome_options\n",
      "  \"\"\"\n",
      "C:\\Users\\Tingchun.TC.Hung\\Anaconda3\\envs\\NLP\\lib\\site-packages\\ipykernel_launcher.py:6: DeprecationWarning: use options instead of chrome_options\n",
      "  \n",
      "C:\\Users\\Tingchun.TC.Hung\\Anaconda3\\envs\\NLP\\lib\\site-packages\\ipykernel_launcher.py:7: DeprecationWarning: use options instead of chrome_options\n",
      "  import sys\n"
     ]
    },
    {
     "name": "stdout",
     "output_type": "stream",
     "text": [
      "https://www.ncbi.nlm.nih.gov/pmc/articles/PMC3589157/figure/mt2012262f1/\n",
      "https://www.ncbi.nlm.nih.gov/pmc/articles/PMC3589157/figure/mt2012262f2/\n",
      "https://www.ncbi.nlm.nih.gov/pmc/articles/PMC3589157/figure/mt2012262f3/\n",
      "https://www.ncbi.nlm.nih.gov/pmc/articles/PMC3589157/figure/mt2012262f4/\n"
     ]
    }
   ],
   "source": [
    "target = \"triplex-forming oligonucleotide\"\n",
    "\n",
    "chrome_options=Options()\n",
    "# chrome_options.add_argument('--headless')#無介面操作\n",
    "driver = webdriver.Chrome(chrome_options=chrome_options)\n",
    "driver2 = webdriver.Chrome(chrome_options=chrome_options)\n",
    "driver3 = webdriver.Chrome(chrome_options=chrome_options)\n",
    "\n",
    "\n",
    "ID = 'PMC3589157'\n",
    "\n",
    "driver2.get('https://www.ncbi.nlm.nih.gov/pmc/articles/'+ID+'/')\n",
    "xpath = 'img'\n",
    "\n",
    "fig = 1\n",
    "\n",
    "for element in driver2.find_elements_by_tag_name(xpath):\n",
    "    try:\n",
    "        img_url = element.get_attribute('src')\n",
    "        if(img_url[:42]==\"https://www.ncbi.nlm.nih.gov/pmc/articles/\"):\n",
    "            fig_name = img_url[img_url.rfind('/')+1:-4]\n",
    "            fig_link = 'https://www.ncbi.nlm.nih.gov/pmc/articles/'+ID+'/figure/'+fig_name+'/'\n",
    "            print(fig_link)\n",
    "\n",
    "            driver3.get(fig_link)\n",
    "#                             text = driver3.find_element_by_xpath('//*[@id=\"'+fig_name+'\"]').text\n",
    "#                             print(text)\n",
    "            urllib.request.urlretrieve(img_url, 'C:/Users/Tingchun.TC.Hung/Desktop/Record/Text Mining/save_path/'+ID+'_'+str(fig)+'.jpg')\n",
    "            fig += 1\n",
    "    except:\n",
    "        no_xpath = True\n",
    "                "
   ]
  },
  {
   "cell_type": "raw",
   "metadata": {},
   "source": [
    "PCR primer"
   ]
  },
  {
   "cell_type": "markdown",
   "metadata": {},
   "source": [
    "## 爬下所有圖片&檢查文字有沒有序列 ver2"
   ]
  },
  {
   "cell_type": "code",
   "execution_count": 38,
   "metadata": {},
   "outputs": [
    {
     "data": {
      "text/plain": [
       "['TTGTG --> TTGTG',\n",
       " 'CACTTTAAGGTGACATTGGTACTGGTAC --> CACTTTAAGGTGACATTGGTACTGGTAC']"
      ]
     },
     "execution_count": 38,
     "metadata": {},
     "output_type": "execute_result"
    }
   ],
   "source": [
    "find_oligonucleotide('TTGTG corresponds to the primer 5’- CACTTTAAGGTGACATTGGTACTGGTAC -3’ jhmk')"
   ]
  },
  {
   "cell_type": "code",
   "execution_count": 151,
   "metadata": {},
   "outputs": [],
   "source": [
    "def find_oligonucleotide(paper):\n",
    "    \n",
    "    paper += ' end'\n",
    "    \n",
    "    Oli_length = 3\n",
    "    Oli_all_length = 5\n",
    "    \n",
    "    #載入停用詞\n",
    "    stop_word = []\n",
    "    with open(stop_word_path+'英文停用詞.txt','r',encoding='utf-8') as file :\n",
    "        for i in file:\n",
    "            stop_word.append(i.split()[0])  \n",
    "            \n",
    "    all_oligonucleotide = []\n",
    "    \n",
    "    add_string = ''\n",
    "    contin = 0\n",
    "    array = paper.split()\n",
    "    for line_string in array :\n",
    "        if(contin != 0):\n",
    "            contin += 1\n",
    "            if(contin == 3):\n",
    "                contin = 0\n",
    "                add_string_len = add_string.replace(' ','')\n",
    "\n",
    "                if(add_string_len.find('5′')!=-1):\n",
    "                    add_string_len = add_string_len[add_string_len.find('5′')+2:]\n",
    "                if(add_string_len.find('3′')!=-1):\n",
    "                    add_string_len = add_string_len[:add_string_len.find('3′')]\n",
    "                add_string_len = add_string_len.replace('5′','')\n",
    "                add_string_len = add_string_len.replace('3′','')\n",
    "                add_string_len = add_string_len.replace('-','')\n",
    "                if(add_string != '' and len(add_string_len)>=Oli_all_length):\n",
    "                    all_oligonucleotide.append(add_string.upper()+' --> '+add_string_len.upper())\n",
    "#                             all_oligonucleotide_sentence.append(add_string.upper()+' --> '+add_string_len.upper()+' --> '+each_paper[:-4]+' : '+line)\n",
    "                    add_string = ''\n",
    "        pass_or_not = True\n",
    "        new_line_string = line_string.lower()\n",
    "        new_line_string = new_line_string.replace('\\ufeff','')\n",
    "        new_line_string = new_line_string.replace('-------------------------------','')\n",
    "        for ch in '!\"#$&()*+,./:;<=>?@[\\\\]^_{|}·~‘’⦁': #-\n",
    "            new_line_string = new_line_string.replace(ch,\"\")\n",
    "        if new_line_string != '' :\n",
    "\n",
    "            for each_char in new_line_string:\n",
    "                lower_each_char = each_char\n",
    "                if(lower_each_char not in ['t','a','g','c','u','5','3','′','-','p']): #,'y','m','k','s','w','h','b','v','d','n'\n",
    "                    pass_or_not = False\n",
    "\n",
    "                    break\n",
    "            if(pass_or_not and new_line_string not in stop_word and len(new_line_string)>=Oli_length):\n",
    "                if( contin <= 2):\n",
    "#                                 print( new_line_string.upper(),contin,end='')\n",
    "                    if(contin==0):\n",
    "                        add_string = new_line_string.upper()\n",
    "                    if(contin!=0):\n",
    "                        add_string += ' '+new_line_string.upper()\n",
    "                    contin = 1\n",
    "        before_word = line_string\n",
    "    \n",
    "    return all_oligonucleotide"
   ]
  },
  {
   "cell_type": "code",
   "execution_count": 152,
   "metadata": {},
   "outputs": [],
   "source": [
    "def figure_table(path,str_soup,target):\n",
    "    pic_list = []\n",
    "    all_hrefs = soup.find_all('a',target=target)\n",
    "    for all_href in all_hrefs:\n",
    "        if(all_href.text!=None):\n",
    "            pic_list.append('https://www.ncbi.nlm.nih.gov/'+all_href.get(\"href\"))\n",
    "    set_pic_list = set(pic_list)\n",
    "    pic_list = list(set_pic_list)\n",
    "#     with open(path,'a',encoding='utf-8') as file:\n",
    "#         file.write('\\n'+target+' : \\n')\n",
    "    pic_list.sort()\n",
    "    for i in pic_list :\n",
    "#             file.write(i+'\\n')\n",
    "#         print(i)\n",
    "#         figure_table_link.append(i)\n",
    "#         figure_table_link_status.append(target)\n",
    "        p1 = str_soup.find(i[len('https://www.ncbi.nlm.nih.gov/')+1:])\n",
    "        p2 = str_soup[p1:].find('<p')\n",
    "        p3 = str_soup[p1+p2:].find('>')\n",
    "#         figure_table_link_position.append(p1+p2+p3+1)  \n",
    "\n",
    "    chrome_options=Options()\n",
    "    chrome_options.add_argument(\"--start-maximized\")\n",
    "    chrome_options.add_argument('--headless')#無介面操作\n",
    "    driver2 = webdriver.Chrome(chrome_options=chrome_options)\n",
    "    \n",
    "    if(target == 'figure'):\n",
    "        in_save = path[:path.rfind('/')]+'/Figure/'+ path[path.rfind('/')+1:path.rfind('.txt')]\n",
    "        in_save2 = path[:path.rfind('/')]+'/Figure/PNG/Figure_'+ path[path.rfind('/')+1:path.rfind('.txt')]\n",
    "    else:\n",
    "        in_save = path[:path.rfind('/')]+'/Table/'+ path[path.rfind('/')+1:path.rfind('.txt')]\n",
    "        in_save2 = path[:path.rfind('/')]+'/Table/PNG/Table_'+ path[path.rfind('/')+1:path.rfind('.txt')]\n",
    "\n",
    "    papers_text = []\n",
    "    for each_download_target in pic_list :\n",
    "        driver2.get(each_download_target)  # 先嘗試開網站\n",
    "        fig_position = each_download_target[:-1].rfind('/')+1\n",
    "        fig_name = each_download_target[fig_position:-1]\n",
    "#         driver2.execute_script(\"document.body.style.zoom='0.5'\")\n",
    "#         driver2.save_screenshot(in_save2+'_'+fig_name+'.png')\n",
    "        pages = driver2.find_element_by_xpath('//*[@id=\"'+fig_name+'\"]').text\n",
    "\n",
    "#         with open(in_save+'_'+fig_name+'.txt','a',encoding = 'utf-8') as f :\n",
    "#             f.write(pages)\n",
    "        papers_text.append(pages)\n",
    "    driver2.quit()\n",
    "    \n",
    "    return(pic_list,papers_text)"
   ]
  },
  {
   "cell_type": "code",
   "execution_count": 153,
   "metadata": {},
   "outputs": [],
   "source": [
    "save_path = 'C:/Users/Tingchun.TC.Hung/Desktop/Record/PCR Electrophoresis/資料集_big/'\n",
    "stop_word_path = 'C:/Users/Tingchun.TC.Hung/Desktop/Record/PCR Electrophoresis/'"
   ]
  },
  {
   "cell_type": "code",
   "execution_count": 156,
   "metadata": {},
   "outputs": [
    {
     "name": "stdin",
     "output_type": "stream",
     "text": [
      "請輸入關鍵字 PCR primer\n"
     ]
    },
    {
     "name": "stderr",
     "output_type": "stream",
     "text": [
      "C:\\Users\\Tingchun.TC.Hung\\Anaconda3\\envs\\NLP\\lib\\site-packages\\ipykernel_launcher.py:14: DeprecationWarning: use options instead of chrome_options\n",
      "  \n",
      "C:\\Users\\Tingchun.TC.Hung\\Anaconda3\\envs\\NLP\\lib\\site-packages\\ipykernel_launcher.py:15: DeprecationWarning: use options instead of chrome_options\n",
      "  from ipykernel import kernelapp as app\n",
      "C:\\Users\\Tingchun.TC.Hung\\Anaconda3\\envs\\NLP\\lib\\site-packages\\ipykernel_launcher.py:16: DeprecationWarning: use options instead of chrome_options\n",
      "  app.launch_new_instance()\n",
      "C:\\Users\\Tingchun.TC.Hung\\Anaconda3\\envs\\NLP\\lib\\site-packages\\ipykernel_launcher.py:17: DeprecationWarning: use options instead of chrome_options\n"
     ]
    },
    {
     "name": "stdout",
     "output_type": "stream",
     "text": [
      "Page of 38605\n",
      "Items: 1 to 20 of 772098\n"
     ]
    },
    {
     "name": "stdin",
     "output_type": "stream",
     "text": [
      "想爬前多少篇文章 772098\n"
     ]
    },
    {
     "name": "stderr",
     "output_type": "stream",
     "text": [
      "C:\\Users\\Tingchun.TC.Hung\\Anaconda3\\envs\\NLP\\lib\\site-packages\\ipykernel_launcher.py:25: DeprecationWarning: use options instead of chrome_options\n"
     ]
    },
    {
     "ename": "ConnectionError",
     "evalue": "HTTPSConnectionPool(host='www.ncbi.nlm.nih.gov', port=443): Max retries exceeded with url: /pmc/articles/PMC6173752/ (Caused by NewConnectionError('<urllib3.connection.HTTPSConnection object at 0x00000286191D76D8>: Failed to establish a new connection: [WinError 10060] 連線嘗試失敗，因為連線對象有一段時間並未正確回應，或是連線建立失敗，因為連線的主機無法回應。',))",
     "output_type": "error",
     "traceback": [
      "\u001b[1;31m---------------------------------------------------------------------------\u001b[0m",
      "\u001b[1;31mTimeoutError\u001b[0m                              Traceback (most recent call last)",
      "\u001b[1;32m~\\Anaconda3\\envs\\NLP\\lib\\site-packages\\urllib3\\connection.py\u001b[0m in \u001b[0;36m_new_conn\u001b[1;34m(self)\u001b[0m\n\u001b[0;32m    159\u001b[0m             conn = connection.create_connection(\n\u001b[1;32m--> 160\u001b[1;33m                 \u001b[1;33m(\u001b[0m\u001b[0mself\u001b[0m\u001b[1;33m.\u001b[0m\u001b[0m_dns_host\u001b[0m\u001b[1;33m,\u001b[0m \u001b[0mself\u001b[0m\u001b[1;33m.\u001b[0m\u001b[0mport\u001b[0m\u001b[1;33m)\u001b[0m\u001b[1;33m,\u001b[0m \u001b[0mself\u001b[0m\u001b[1;33m.\u001b[0m\u001b[0mtimeout\u001b[0m\u001b[1;33m,\u001b[0m \u001b[1;33m**\u001b[0m\u001b[0mextra_kw\u001b[0m\u001b[1;33m\u001b[0m\u001b[1;33m\u001b[0m\u001b[0m\n\u001b[0m\u001b[0;32m    161\u001b[0m             )\n",
      "\u001b[1;32m~\\Anaconda3\\envs\\NLP\\lib\\site-packages\\urllib3\\util\\connection.py\u001b[0m in \u001b[0;36mcreate_connection\u001b[1;34m(address, timeout, source_address, socket_options)\u001b[0m\n\u001b[0;32m     83\u001b[0m     \u001b[1;32mif\u001b[0m \u001b[0merr\u001b[0m \u001b[1;32mis\u001b[0m \u001b[1;32mnot\u001b[0m \u001b[1;32mNone\u001b[0m\u001b[1;33m:\u001b[0m\u001b[1;33m\u001b[0m\u001b[1;33m\u001b[0m\u001b[0m\n\u001b[1;32m---> 84\u001b[1;33m         \u001b[1;32mraise\u001b[0m \u001b[0merr\u001b[0m\u001b[1;33m\u001b[0m\u001b[1;33m\u001b[0m\u001b[0m\n\u001b[0m\u001b[0;32m     85\u001b[0m \u001b[1;33m\u001b[0m\u001b[0m\n",
      "\u001b[1;32m~\\Anaconda3\\envs\\NLP\\lib\\site-packages\\urllib3\\util\\connection.py\u001b[0m in \u001b[0;36mcreate_connection\u001b[1;34m(address, timeout, source_address, socket_options)\u001b[0m\n\u001b[0;32m     73\u001b[0m                 \u001b[0msock\u001b[0m\u001b[1;33m.\u001b[0m\u001b[0mbind\u001b[0m\u001b[1;33m(\u001b[0m\u001b[0msource_address\u001b[0m\u001b[1;33m)\u001b[0m\u001b[1;33m\u001b[0m\u001b[1;33m\u001b[0m\u001b[0m\n\u001b[1;32m---> 74\u001b[1;33m             \u001b[0msock\u001b[0m\u001b[1;33m.\u001b[0m\u001b[0mconnect\u001b[0m\u001b[1;33m(\u001b[0m\u001b[0msa\u001b[0m\u001b[1;33m)\u001b[0m\u001b[1;33m\u001b[0m\u001b[1;33m\u001b[0m\u001b[0m\n\u001b[0m\u001b[0;32m     75\u001b[0m             \u001b[1;32mreturn\u001b[0m \u001b[0msock\u001b[0m\u001b[1;33m\u001b[0m\u001b[1;33m\u001b[0m\u001b[0m\n",
      "\u001b[1;31mTimeoutError\u001b[0m: [WinError 10060] 連線嘗試失敗，因為連線對象有一段時間並未正確回應，或是連線建立失敗，因為連線的主機無法回應。",
      "\nDuring handling of the above exception, another exception occurred:\n",
      "\u001b[1;31mNewConnectionError\u001b[0m                        Traceback (most recent call last)",
      "\u001b[1;32m~\\Anaconda3\\envs\\NLP\\lib\\site-packages\\urllib3\\connectionpool.py\u001b[0m in \u001b[0;36murlopen\u001b[1;34m(self, method, url, body, headers, retries, redirect, assert_same_host, timeout, pool_timeout, release_conn, chunked, body_pos, **response_kw)\u001b[0m\n\u001b[0;32m    676\u001b[0m                 \u001b[0mheaders\u001b[0m\u001b[1;33m=\u001b[0m\u001b[0mheaders\u001b[0m\u001b[1;33m,\u001b[0m\u001b[1;33m\u001b[0m\u001b[1;33m\u001b[0m\u001b[0m\n\u001b[1;32m--> 677\u001b[1;33m                 \u001b[0mchunked\u001b[0m\u001b[1;33m=\u001b[0m\u001b[0mchunked\u001b[0m\u001b[1;33m,\u001b[0m\u001b[1;33m\u001b[0m\u001b[1;33m\u001b[0m\u001b[0m\n\u001b[0m\u001b[0;32m    678\u001b[0m             )\n",
      "\u001b[1;32m~\\Anaconda3\\envs\\NLP\\lib\\site-packages\\urllib3\\connectionpool.py\u001b[0m in \u001b[0;36m_make_request\u001b[1;34m(self, conn, method, url, timeout, chunked, **httplib_request_kw)\u001b[0m\n\u001b[0;32m    380\u001b[0m         \u001b[1;32mtry\u001b[0m\u001b[1;33m:\u001b[0m\u001b[1;33m\u001b[0m\u001b[1;33m\u001b[0m\u001b[0m\n\u001b[1;32m--> 381\u001b[1;33m             \u001b[0mself\u001b[0m\u001b[1;33m.\u001b[0m\u001b[0m_validate_conn\u001b[0m\u001b[1;33m(\u001b[0m\u001b[0mconn\u001b[0m\u001b[1;33m)\u001b[0m\u001b[1;33m\u001b[0m\u001b[1;33m\u001b[0m\u001b[0m\n\u001b[0m\u001b[0;32m    382\u001b[0m         \u001b[1;32mexcept\u001b[0m \u001b[1;33m(\u001b[0m\u001b[0mSocketTimeout\u001b[0m\u001b[1;33m,\u001b[0m \u001b[0mBaseSSLError\u001b[0m\u001b[1;33m)\u001b[0m \u001b[1;32mas\u001b[0m \u001b[0me\u001b[0m\u001b[1;33m:\u001b[0m\u001b[1;33m\u001b[0m\u001b[1;33m\u001b[0m\u001b[0m\n",
      "\u001b[1;32m~\\Anaconda3\\envs\\NLP\\lib\\site-packages\\urllib3\\connectionpool.py\u001b[0m in \u001b[0;36m_validate_conn\u001b[1;34m(self, conn)\u001b[0m\n\u001b[0;32m    977\u001b[0m         \u001b[1;32mif\u001b[0m \u001b[1;32mnot\u001b[0m \u001b[0mgetattr\u001b[0m\u001b[1;33m(\u001b[0m\u001b[0mconn\u001b[0m\u001b[1;33m,\u001b[0m \u001b[1;34m\"sock\"\u001b[0m\u001b[1;33m,\u001b[0m \u001b[1;32mNone\u001b[0m\u001b[1;33m)\u001b[0m\u001b[1;33m:\u001b[0m  \u001b[1;31m# AppEngine might not have  `.sock`\u001b[0m\u001b[1;33m\u001b[0m\u001b[1;33m\u001b[0m\u001b[0m\n\u001b[1;32m--> 978\u001b[1;33m             \u001b[0mconn\u001b[0m\u001b[1;33m.\u001b[0m\u001b[0mconnect\u001b[0m\u001b[1;33m(\u001b[0m\u001b[1;33m)\u001b[0m\u001b[1;33m\u001b[0m\u001b[1;33m\u001b[0m\u001b[0m\n\u001b[0m\u001b[0;32m    979\u001b[0m \u001b[1;33m\u001b[0m\u001b[0m\n",
      "\u001b[1;32m~\\Anaconda3\\envs\\NLP\\lib\\site-packages\\urllib3\\connection.py\u001b[0m in \u001b[0;36mconnect\u001b[1;34m(self)\u001b[0m\n\u001b[0;32m    308\u001b[0m         \u001b[1;31m# Add certificate verification\u001b[0m\u001b[1;33m\u001b[0m\u001b[1;33m\u001b[0m\u001b[1;33m\u001b[0m\u001b[0m\n\u001b[1;32m--> 309\u001b[1;33m         \u001b[0mconn\u001b[0m \u001b[1;33m=\u001b[0m \u001b[0mself\u001b[0m\u001b[1;33m.\u001b[0m\u001b[0m_new_conn\u001b[0m\u001b[1;33m(\u001b[0m\u001b[1;33m)\u001b[0m\u001b[1;33m\u001b[0m\u001b[1;33m\u001b[0m\u001b[0m\n\u001b[0m\u001b[0;32m    310\u001b[0m         \u001b[0mhostname\u001b[0m \u001b[1;33m=\u001b[0m \u001b[0mself\u001b[0m\u001b[1;33m.\u001b[0m\u001b[0mhost\u001b[0m\u001b[1;33m\u001b[0m\u001b[1;33m\u001b[0m\u001b[0m\n",
      "\u001b[1;32m~\\Anaconda3\\envs\\NLP\\lib\\site-packages\\urllib3\\connection.py\u001b[0m in \u001b[0;36m_new_conn\u001b[1;34m(self)\u001b[0m\n\u001b[0;32m    171\u001b[0m             raise NewConnectionError(\n\u001b[1;32m--> 172\u001b[1;33m                 \u001b[0mself\u001b[0m\u001b[1;33m,\u001b[0m \u001b[1;34m\"Failed to establish a new connection: %s\"\u001b[0m \u001b[1;33m%\u001b[0m \u001b[0me\u001b[0m\u001b[1;33m\u001b[0m\u001b[1;33m\u001b[0m\u001b[0m\n\u001b[0m\u001b[0;32m    173\u001b[0m             )\n",
      "\u001b[1;31mNewConnectionError\u001b[0m: <urllib3.connection.HTTPSConnection object at 0x00000286191D76D8>: Failed to establish a new connection: [WinError 10060] 連線嘗試失敗，因為連線對象有一段時間並未正確回應，或是連線建立失敗，因為連線的主機無法回應。",
      "\nDuring handling of the above exception, another exception occurred:\n",
      "\u001b[1;31mMaxRetryError\u001b[0m                             Traceback (most recent call last)",
      "\u001b[1;32m~\\Anaconda3\\envs\\NLP\\lib\\site-packages\\requests\\adapters.py\u001b[0m in \u001b[0;36msend\u001b[1;34m(self, request, stream, timeout, verify, cert, proxies)\u001b[0m\n\u001b[0;32m    448\u001b[0m                     \u001b[0mretries\u001b[0m\u001b[1;33m=\u001b[0m\u001b[0mself\u001b[0m\u001b[1;33m.\u001b[0m\u001b[0mmax_retries\u001b[0m\u001b[1;33m,\u001b[0m\u001b[1;33m\u001b[0m\u001b[1;33m\u001b[0m\u001b[0m\n\u001b[1;32m--> 449\u001b[1;33m                     \u001b[0mtimeout\u001b[0m\u001b[1;33m=\u001b[0m\u001b[0mtimeout\u001b[0m\u001b[1;33m\u001b[0m\u001b[1;33m\u001b[0m\u001b[0m\n\u001b[0m\u001b[0;32m    450\u001b[0m                 )\n",
      "\u001b[1;32m~\\Anaconda3\\envs\\NLP\\lib\\site-packages\\urllib3\\connectionpool.py\u001b[0m in \u001b[0;36murlopen\u001b[1;34m(self, method, url, body, headers, retries, redirect, assert_same_host, timeout, pool_timeout, release_conn, chunked, body_pos, **response_kw)\u001b[0m\n\u001b[0;32m    726\u001b[0m             retries = retries.increment(\n\u001b[1;32m--> 727\u001b[1;33m                 \u001b[0mmethod\u001b[0m\u001b[1;33m,\u001b[0m \u001b[0murl\u001b[0m\u001b[1;33m,\u001b[0m \u001b[0merror\u001b[0m\u001b[1;33m=\u001b[0m\u001b[0me\u001b[0m\u001b[1;33m,\u001b[0m \u001b[0m_pool\u001b[0m\u001b[1;33m=\u001b[0m\u001b[0mself\u001b[0m\u001b[1;33m,\u001b[0m \u001b[0m_stacktrace\u001b[0m\u001b[1;33m=\u001b[0m\u001b[0msys\u001b[0m\u001b[1;33m.\u001b[0m\u001b[0mexc_info\u001b[0m\u001b[1;33m(\u001b[0m\u001b[1;33m)\u001b[0m\u001b[1;33m[\u001b[0m\u001b[1;36m2\u001b[0m\u001b[1;33m]\u001b[0m\u001b[1;33m\u001b[0m\u001b[1;33m\u001b[0m\u001b[0m\n\u001b[0m\u001b[0;32m    728\u001b[0m             )\n",
      "\u001b[1;32m~\\Anaconda3\\envs\\NLP\\lib\\site-packages\\urllib3\\util\\retry.py\u001b[0m in \u001b[0;36mincrement\u001b[1;34m(self, method, url, response, error, _pool, _stacktrace)\u001b[0m\n\u001b[0;32m    445\u001b[0m         \u001b[1;32mif\u001b[0m \u001b[0mnew_retry\u001b[0m\u001b[1;33m.\u001b[0m\u001b[0mis_exhausted\u001b[0m\u001b[1;33m(\u001b[0m\u001b[1;33m)\u001b[0m\u001b[1;33m:\u001b[0m\u001b[1;33m\u001b[0m\u001b[1;33m\u001b[0m\u001b[0m\n\u001b[1;32m--> 446\u001b[1;33m             \u001b[1;32mraise\u001b[0m \u001b[0mMaxRetryError\u001b[0m\u001b[1;33m(\u001b[0m\u001b[0m_pool\u001b[0m\u001b[1;33m,\u001b[0m \u001b[0murl\u001b[0m\u001b[1;33m,\u001b[0m \u001b[0merror\u001b[0m \u001b[1;32mor\u001b[0m \u001b[0mResponseError\u001b[0m\u001b[1;33m(\u001b[0m\u001b[0mcause\u001b[0m\u001b[1;33m)\u001b[0m\u001b[1;33m)\u001b[0m\u001b[1;33m\u001b[0m\u001b[1;33m\u001b[0m\u001b[0m\n\u001b[0m\u001b[0;32m    447\u001b[0m \u001b[1;33m\u001b[0m\u001b[0m\n",
      "\u001b[1;31mMaxRetryError\u001b[0m: HTTPSConnectionPool(host='www.ncbi.nlm.nih.gov', port=443): Max retries exceeded with url: /pmc/articles/PMC6173752/ (Caused by NewConnectionError('<urllib3.connection.HTTPSConnection object at 0x00000286191D76D8>: Failed to establish a new connection: [WinError 10060] 連線嘗試失敗，因為連線對象有一段時間並未正確回應，或是連線建立失敗，因為連線的主機無法回應。',))",
      "\nDuring handling of the above exception, another exception occurred:\n",
      "\u001b[1;31mConnectionError\u001b[0m                           Traceback (most recent call last)",
      "\u001b[1;32m<ipython-input-156-8397f78df541>\u001b[0m in \u001b[0;36m<module>\u001b[1;34m\u001b[0m\n\u001b[0;32m     51\u001b[0m                 \u001b[0mhtml\u001b[0m \u001b[1;33m=\u001b[0m \u001b[1;34m\"https://www.ncbi.nlm.nih.gov/pmc/articles/\"\u001b[0m\u001b[1;33m+\u001b[0m\u001b[0mID\u001b[0m\u001b[1;33m+\u001b[0m\u001b[1;34m\"/\"\u001b[0m \u001b[1;31m# \"https://www.ncbi.nlm.nih.gov/pmc/articles/PMC4014521/\"\u001b[0m\u001b[1;33m\u001b[0m\u001b[1;33m\u001b[0m\u001b[0m\n\u001b[0;32m     52\u001b[0m                 \u001b[0mrs\u001b[0m \u001b[1;33m=\u001b[0m \u001b[0mrequests\u001b[0m\u001b[1;33m.\u001b[0m\u001b[0mSession\u001b[0m\u001b[1;33m(\u001b[0m\u001b[1;33m)\u001b[0m\u001b[1;33m\u001b[0m\u001b[1;33m\u001b[0m\u001b[0m\n\u001b[1;32m---> 53\u001b[1;33m                 \u001b[0mres\u001b[0m \u001b[1;33m=\u001b[0m \u001b[0mrs\u001b[0m\u001b[1;33m.\u001b[0m\u001b[0mget\u001b[0m\u001b[1;33m(\u001b[0m\u001b[0mhtml\u001b[0m\u001b[1;33m,\u001b[0m \u001b[0mheaders\u001b[0m\u001b[1;33m=\u001b[0m\u001b[0mheaders\u001b[0m\u001b[1;33m)\u001b[0m\u001b[1;33m\u001b[0m\u001b[1;33m\u001b[0m\u001b[0m\n\u001b[0m\u001b[0;32m     54\u001b[0m                 \u001b[0msoup\u001b[0m \u001b[1;33m=\u001b[0m \u001b[0mBeautifulSoup\u001b[0m\u001b[1;33m(\u001b[0m\u001b[0mres\u001b[0m\u001b[1;33m.\u001b[0m\u001b[0mtext\u001b[0m\u001b[1;33m,\u001b[0m \u001b[1;34m'html.parser'\u001b[0m\u001b[1;33m)\u001b[0m\u001b[1;33m\u001b[0m\u001b[1;33m\u001b[0m\u001b[0m\n\u001b[0;32m     55\u001b[0m                 \u001b[0mold_str_soup\u001b[0m \u001b[1;33m=\u001b[0m \u001b[0mstr\u001b[0m\u001b[1;33m(\u001b[0m\u001b[0msoup\u001b[0m\u001b[1;33m)\u001b[0m\u001b[1;33m\u001b[0m\u001b[1;33m\u001b[0m\u001b[0m\n",
      "\u001b[1;32m~\\Anaconda3\\envs\\NLP\\lib\\site-packages\\requests\\sessions.py\u001b[0m in \u001b[0;36mget\u001b[1;34m(self, url, **kwargs)\u001b[0m\n\u001b[0;32m    553\u001b[0m \u001b[1;33m\u001b[0m\u001b[0m\n\u001b[0;32m    554\u001b[0m         \u001b[0mkwargs\u001b[0m\u001b[1;33m.\u001b[0m\u001b[0msetdefault\u001b[0m\u001b[1;33m(\u001b[0m\u001b[1;34m'allow_redirects'\u001b[0m\u001b[1;33m,\u001b[0m \u001b[1;32mTrue\u001b[0m\u001b[1;33m)\u001b[0m\u001b[1;33m\u001b[0m\u001b[1;33m\u001b[0m\u001b[0m\n\u001b[1;32m--> 555\u001b[1;33m         \u001b[1;32mreturn\u001b[0m \u001b[0mself\u001b[0m\u001b[1;33m.\u001b[0m\u001b[0mrequest\u001b[0m\u001b[1;33m(\u001b[0m\u001b[1;34m'GET'\u001b[0m\u001b[1;33m,\u001b[0m \u001b[0murl\u001b[0m\u001b[1;33m,\u001b[0m \u001b[1;33m**\u001b[0m\u001b[0mkwargs\u001b[0m\u001b[1;33m)\u001b[0m\u001b[1;33m\u001b[0m\u001b[1;33m\u001b[0m\u001b[0m\n\u001b[0m\u001b[0;32m    556\u001b[0m \u001b[1;33m\u001b[0m\u001b[0m\n\u001b[0;32m    557\u001b[0m     \u001b[1;32mdef\u001b[0m \u001b[0moptions\u001b[0m\u001b[1;33m(\u001b[0m\u001b[0mself\u001b[0m\u001b[1;33m,\u001b[0m \u001b[0murl\u001b[0m\u001b[1;33m,\u001b[0m \u001b[1;33m**\u001b[0m\u001b[0mkwargs\u001b[0m\u001b[1;33m)\u001b[0m\u001b[1;33m:\u001b[0m\u001b[1;33m\u001b[0m\u001b[1;33m\u001b[0m\u001b[0m\n",
      "\u001b[1;32m~\\Anaconda3\\envs\\NLP\\lib\\site-packages\\requests\\sessions.py\u001b[0m in \u001b[0;36mrequest\u001b[1;34m(self, method, url, params, data, headers, cookies, files, auth, timeout, allow_redirects, proxies, hooks, stream, verify, cert, json)\u001b[0m\n\u001b[0;32m    540\u001b[0m         }\n\u001b[0;32m    541\u001b[0m         \u001b[0msend_kwargs\u001b[0m\u001b[1;33m.\u001b[0m\u001b[0mupdate\u001b[0m\u001b[1;33m(\u001b[0m\u001b[0msettings\u001b[0m\u001b[1;33m)\u001b[0m\u001b[1;33m\u001b[0m\u001b[1;33m\u001b[0m\u001b[0m\n\u001b[1;32m--> 542\u001b[1;33m         \u001b[0mresp\u001b[0m \u001b[1;33m=\u001b[0m \u001b[0mself\u001b[0m\u001b[1;33m.\u001b[0m\u001b[0msend\u001b[0m\u001b[1;33m(\u001b[0m\u001b[0mprep\u001b[0m\u001b[1;33m,\u001b[0m \u001b[1;33m**\u001b[0m\u001b[0msend_kwargs\u001b[0m\u001b[1;33m)\u001b[0m\u001b[1;33m\u001b[0m\u001b[1;33m\u001b[0m\u001b[0m\n\u001b[0m\u001b[0;32m    543\u001b[0m \u001b[1;33m\u001b[0m\u001b[0m\n\u001b[0;32m    544\u001b[0m         \u001b[1;32mreturn\u001b[0m \u001b[0mresp\u001b[0m\u001b[1;33m\u001b[0m\u001b[1;33m\u001b[0m\u001b[0m\n",
      "\u001b[1;32m~\\Anaconda3\\envs\\NLP\\lib\\site-packages\\requests\\sessions.py\u001b[0m in \u001b[0;36msend\u001b[1;34m(self, request, **kwargs)\u001b[0m\n\u001b[0;32m    653\u001b[0m \u001b[1;33m\u001b[0m\u001b[0m\n\u001b[0;32m    654\u001b[0m         \u001b[1;31m# Send the request\u001b[0m\u001b[1;33m\u001b[0m\u001b[1;33m\u001b[0m\u001b[1;33m\u001b[0m\u001b[0m\n\u001b[1;32m--> 655\u001b[1;33m         \u001b[0mr\u001b[0m \u001b[1;33m=\u001b[0m \u001b[0madapter\u001b[0m\u001b[1;33m.\u001b[0m\u001b[0msend\u001b[0m\u001b[1;33m(\u001b[0m\u001b[0mrequest\u001b[0m\u001b[1;33m,\u001b[0m \u001b[1;33m**\u001b[0m\u001b[0mkwargs\u001b[0m\u001b[1;33m)\u001b[0m\u001b[1;33m\u001b[0m\u001b[1;33m\u001b[0m\u001b[0m\n\u001b[0m\u001b[0;32m    656\u001b[0m \u001b[1;33m\u001b[0m\u001b[0m\n\u001b[0;32m    657\u001b[0m         \u001b[1;31m# Total elapsed time of the request (approximately)\u001b[0m\u001b[1;33m\u001b[0m\u001b[1;33m\u001b[0m\u001b[1;33m\u001b[0m\u001b[0m\n",
      "\u001b[1;32m~\\Anaconda3\\envs\\NLP\\lib\\site-packages\\requests\\adapters.py\u001b[0m in \u001b[0;36msend\u001b[1;34m(self, request, stream, timeout, verify, cert, proxies)\u001b[0m\n\u001b[0;32m    514\u001b[0m                 \u001b[1;32mraise\u001b[0m \u001b[0mSSLError\u001b[0m\u001b[1;33m(\u001b[0m\u001b[0me\u001b[0m\u001b[1;33m,\u001b[0m \u001b[0mrequest\u001b[0m\u001b[1;33m=\u001b[0m\u001b[0mrequest\u001b[0m\u001b[1;33m)\u001b[0m\u001b[1;33m\u001b[0m\u001b[1;33m\u001b[0m\u001b[0m\n\u001b[0;32m    515\u001b[0m \u001b[1;33m\u001b[0m\u001b[0m\n\u001b[1;32m--> 516\u001b[1;33m             \u001b[1;32mraise\u001b[0m \u001b[0mConnectionError\u001b[0m\u001b[1;33m(\u001b[0m\u001b[0me\u001b[0m\u001b[1;33m,\u001b[0m \u001b[0mrequest\u001b[0m\u001b[1;33m=\u001b[0m\u001b[0mrequest\u001b[0m\u001b[1;33m)\u001b[0m\u001b[1;33m\u001b[0m\u001b[1;33m\u001b[0m\u001b[0m\n\u001b[0m\u001b[0;32m    517\u001b[0m \u001b[1;33m\u001b[0m\u001b[0m\n\u001b[0;32m    518\u001b[0m         \u001b[1;32mexcept\u001b[0m \u001b[0mClosedPoolError\u001b[0m \u001b[1;32mas\u001b[0m \u001b[0me\u001b[0m\u001b[1;33m:\u001b[0m\u001b[1;33m\u001b[0m\u001b[1;33m\u001b[0m\u001b[0m\n",
      "\u001b[1;31mConnectionError\u001b[0m: HTTPSConnectionPool(host='www.ncbi.nlm.nih.gov', port=443): Max retries exceeded with url: /pmc/articles/PMC6173752/ (Caused by NewConnectionError('<urllib3.connection.HTTPSConnection object at 0x00000286191D76D8>: Failed to establish a new connection: [WinError 10060] 連線嘗試失敗，因為連線對象有一段時間並未正確回應，或是連線建立失敗，因為連線的主機無法回應。',))"
     ]
    }
   ],
   "source": [
    "file = ['All_pic','Detection','Papers']\n",
    "for open_file in file:\n",
    "    if not path.exists(save_path+open_file):\n",
    "        makedirs(save_path+open_file)\n",
    "    with open(save_path+'出現序列之論文.txt','a',encoding='utf-8') as file :\n",
    "        file.write('')\n",
    "    with open(save_path+'出現序列且偵測為電泳圖之論文.txt','a',encoding='utf-8') as file :\n",
    "        file.write('')\n",
    "\n",
    "target = input('請輸入關鍵字')\n",
    "\n",
    "chrome_options=Options()\n",
    "chrome_options.add_argument('--headless')#無介面操作\n",
    "driver = webdriver.Chrome(chrome_options=chrome_options)\n",
    "driver2 = webdriver.Chrome(chrome_options=chrome_options)\n",
    "driver3 = webdriver.Chrome(chrome_options=chrome_options)\n",
    "driver4 = webdriver.Chrome(chrome_options=chrome_options)\n",
    "\n",
    "driver.get(\"https://www.ncbi.nlm.nih.gov/pmc/?term=\"+target)\n",
    "\n",
    "with open(save_path+'統計.txt','a',encoding='utf-8') as file :\n",
    "    pages = driver.find_element_by_xpath('//*[@id=\"maincontent\"]/div/div[7]/div/h3').text\n",
    "    file.write(pages+'\\n')\n",
    "    print(pages)\n",
    "    papers = driver.find_element_by_xpath('//*[@id=\"maincontent\"]/div/div[3]/div[1]/h3').text\n",
    "    file.write(papers+'\\n')\n",
    "    print(papers)\n",
    "    file.write('\\n\\n')\n",
    "\n",
    "    target_papers_numbers = int(input('想爬前多少篇文章'))\n",
    "    file.write('以下共'+str(target_papers_numbers)+'篇\\n')\n",
    "    \n",
    "    while(target_papers_numbers!=0):\n",
    "        for top_20 in range(1,21):\n",
    "            if(target_papers_numbers!=0):\n",
    "                ID = driver.find_element_by_xpath('//*[@id=\"maincontent\"]/div/div[5]/div['+str(top_20)+']/div[2]/div[4]/div/dl/dd').text\n",
    "                file.write('ID : '+ID+'\\n')\n",
    "#                 print(ID)\n",
    "                year = driver.find_element_by_xpath('//*[@id=\"maincontent\"]/div/div[5]/div['+str(top_20)+']/div[2]/div[3]/div[2]/span[1]').text[:-1]\n",
    "                file.write('year : '+year+'\\n')\n",
    "#                 print(year)\n",
    "                Title = driver.find_element_by_xpath('//*[@id=\"maincontent\"]/div/div[5]/div['+str(top_20)+']/div[2]/div[2]').text\n",
    "                file.write('Title : '+Title+'\\n')\n",
    "#                 print(Title)\n",
    "#                 print()\n",
    "                # last_page = pages.split()[-1]\n",
    "\n",
    "                # want_last_page = input()\n",
    "                headers={'User-Agent':'Mozilla/5.0 (Windows NT 10.0; Win64; x64; rv:83.0) Gecko/20100101 Firefox/83.0'}\n",
    "\n",
    "                html = \"https://www.ncbi.nlm.nih.gov/pmc/articles/\"+ID+\"/\" # \"https://www.ncbi.nlm.nih.gov/pmc/articles/PMC4014521/\"\n",
    "                rs = requests.Session()\n",
    "                res = rs.get(html, headers=headers)\n",
    "                soup = BeautifulSoup(res.text, 'html.parser')\n",
    "                old_str_soup = str(soup)\n",
    "                all_href = soup.find('h2')\n",
    "                str_soup = old_str_soup[old_str_soup.find(all_href.text[:])-10:]\n",
    "                fig_link,papers_text = figure_table('',str_soup,\"figure\")\n",
    "\n",
    "                \n",
    "                driver4.get('https://www.ncbi.nlm.nih.gov/pmc/articles/'+ID+'/')\n",
    "                xpath = 'img'\n",
    "\n",
    "                fig = 1\n",
    "                with open(save_path+'Papers/'+ID+'.txt','a',encoding='utf-8') as file_paper :\n",
    "                    \n",
    "                    for element in driver4.find_elements_by_tag_name(xpath):\n",
    "                        try:\n",
    "                            img_url = element.get_attribute('src')\n",
    "                            if(img_url[:42]==\"https://www.ncbi.nlm.nih.gov/pmc/articles/\"):\n",
    "#                                 fig_name = img_url[img_url.rfind('/')+1:-4]\n",
    "#                                 fig_link = 'https://www.ncbi.nlm.nih.gov/pmc/articles/'+ID+'/figure/'+fig_name+'/'\n",
    "#                                 print(fig_link)\n",
    "                                file.write(fig_link[fig-1]+'\\n')\n",
    "#                                 driver3.get(fig_link)\n",
    "#                                 text = driver3.find_element_by_xpath('//*[@id=\"'+fig_name+'\"]').text\n",
    "    #                             print(text)\n",
    "                                \n",
    "                                file_paper.write('ID : '+ID+'\\n'+'year : '+year+'\\n'+'Title : '+Title+'\\n'+fig_link[fig-1]+'\\n'+papers_text[fig-1]+'\\n\\n')\n",
    "                                oligonucleotide = find_oligonucleotide(papers_text[fig-1])\n",
    "                                if(len(oligonucleotide)!=0):\n",
    "                                    with open(save_path+'出現序列之論文.txt','a',encoding='utf-8') as file_collect :\n",
    "                                        file_collect.write('ID : '+ID+'_'+str(fig)+'\\n'+'year : '+year+'\\n'+'Title : '+Title+'\\n'+fig_link[fig-1]+'\\n'+papers_text[fig-1]+'\\n')\n",
    "                                        for write_oligonucleotide in oligonucleotide :\n",
    "                                            file_collect.write(write_oligonucleotide+'\\n')\n",
    "                                        file_collect.write('\\n')\n",
    "                                try:\n",
    "                                    urllib.request.urlretrieve(img_url, save_path+'All_pic/'+ID+'_'+str(fig)+'.jpg')\n",
    "                                except:\n",
    "                                    no_fig = True\n",
    "                                fig += 1\n",
    "                                sleep(1)\n",
    "                        except:\n",
    "                            no_xpath = True\n",
    "                file.write('\\n')\n",
    "                target_papers_numbers -= 1\n",
    "                sleep(2)\n",
    "        driver.find_element_by_xpath(\"(//a[contains(text(),'Next >')])[2]\").click()\n",
    "        \n",
    "driver.quit()\n",
    "driver2.quit()\n",
    "driver3.quit()"
   ]
  },
  {
   "cell_type": "code",
   "execution_count": 103,
   "metadata": {},
   "outputs": [],
   "source": [
    "import cv2\n",
    "import numpy as np"
   ]
  },
  {
   "cell_type": "code",
   "execution_count": 104,
   "metadata": {},
   "outputs": [],
   "source": [
    "model_path = 'C:/Users/Tingchun.TC.Hung/Desktop/Record/PCR Electrophoresis/'"
   ]
  },
  {
   "cell_type": "code",
   "execution_count": 146,
   "metadata": {},
   "outputs": [],
   "source": [
    "label_1_data = []\n",
    "with open('C:/Users/Tingchun.TC.Hung/Desktop/Record/PCR Electrophoresis/needed_multi.csv','r',encoding='utf-8')as file:\n",
    "    for line in file:\n",
    "        if(line.split(',')[0]!='\"\"'):\n",
    "            label_1_data.append(line.split(',')[1].replace('\"','').replace('\\n',''))"
   ]
  },
  {
   "cell_type": "code",
   "execution_count": 149,
   "metadata": {},
   "outputs": [
    {
     "data": {
      "text/plain": [
       "121"
      ]
     },
     "execution_count": 149,
     "metadata": {},
     "output_type": "execute_result"
    }
   ],
   "source": [
    "len(label_1_data)"
   ]
  },
  {
   "cell_type": "code",
   "execution_count": 149,
   "metadata": {},
   "outputs": [
    {
     "data": {
      "text/plain": [
       "121"
      ]
     },
     "execution_count": 149,
     "metadata": {},
     "output_type": "execute_result"
    }
   ],
   "source": [
    "len(label_1_data)"
   ]
  },
  {
   "cell_type": "code",
   "execution_count": 150,
   "metadata": {},
   "outputs": [
    {
     "data": {
      "text/plain": [
       "40"
      ]
     },
     "execution_count": 150,
     "metadata": {},
     "output_type": "execute_result"
    }
   ],
   "source": [
    "len(train_1)"
   ]
  },
  {
   "cell_type": "code",
   "execution_count": 147,
   "metadata": {},
   "outputs": [
    {
     "ename": "error",
     "evalue": "OpenCV(4.5.1) C:\\Users\\appveyor\\AppData\\Local\\Temp\\1\\pip-req-build-6uw63ony\\opencv\\modules\\imgproc\\src\\resize.cpp:4051: error: (-215:Assertion failed) !ssize.empty() in function 'cv::resize'\n",
     "output_type": "error",
     "traceback": [
      "\u001b[1;31m---------------------------------------------------------------------------\u001b[0m",
      "\u001b[1;31merror\u001b[0m                                     Traceback (most recent call last)",
      "\u001b[1;32m<ipython-input-147-195fbb0e3c60>\u001b[0m in \u001b[0;36m<module>\u001b[1;34m\u001b[0m\n\u001b[0;32m     10\u001b[0m \u001b[1;31m#         print(mypath+\"/\"+file)\u001b[0m\u001b[1;33m\u001b[0m\u001b[1;33m\u001b[0m\u001b[1;33m\u001b[0m\u001b[0m\n\u001b[0;32m     11\u001b[0m         \u001b[0mimg\u001b[0m \u001b[1;33m=\u001b[0m \u001b[0mcv2\u001b[0m\u001b[1;33m.\u001b[0m\u001b[0mimread\u001b[0m\u001b[1;33m(\u001b[0m\u001b[0mmypath\u001b[0m\u001b[1;33m+\u001b[0m\u001b[1;34m'/'\u001b[0m\u001b[1;33m+\u001b[0m\u001b[0mfile\u001b[0m\u001b[1;33m)\u001b[0m\u001b[1;33m\u001b[0m\u001b[1;33m\u001b[0m\u001b[0m\n\u001b[1;32m---> 12\u001b[1;33m         \u001b[0mimg2\u001b[0m \u001b[1;33m=\u001b[0m \u001b[0mcv2\u001b[0m\u001b[1;33m.\u001b[0m\u001b[0mresize\u001b[0m\u001b[1;33m(\u001b[0m\u001b[0mimg\u001b[0m\u001b[1;33m,\u001b[0m \u001b[1;33m(\u001b[0m\u001b[1;36m125\u001b[0m\u001b[1;33m,\u001b[0m\u001b[1;36m125\u001b[0m\u001b[1;33m)\u001b[0m\u001b[1;33m,\u001b[0m \u001b[0minterpolation\u001b[0m\u001b[1;33m=\u001b[0m\u001b[0mcv2\u001b[0m\u001b[1;33m.\u001b[0m\u001b[0mINTER_CUBIC\u001b[0m\u001b[1;33m)\u001b[0m\u001b[1;33m\u001b[0m\u001b[1;33m\u001b[0m\u001b[0m\n\u001b[0m\u001b[0;32m     13\u001b[0m         \u001b[1;32mif\u001b[0m \u001b[0mfile\u001b[0m \u001b[1;32min\u001b[0m \u001b[0mlabel_1_data\u001b[0m\u001b[1;33m:\u001b[0m\u001b[1;33m\u001b[0m\u001b[1;33m\u001b[0m\u001b[0m\n\u001b[0;32m     14\u001b[0m             \u001b[0mtrain_1\u001b[0m\u001b[1;33m.\u001b[0m\u001b[0mappend\u001b[0m\u001b[1;33m(\u001b[0m\u001b[0mimg2\u001b[0m\u001b[1;33m)\u001b[0m\u001b[1;33m\u001b[0m\u001b[1;33m\u001b[0m\u001b[0m\n",
      "\u001b[1;31merror\u001b[0m: OpenCV(4.5.1) C:\\Users\\appveyor\\AppData\\Local\\Temp\\1\\pip-req-build-6uw63ony\\opencv\\modules\\imgproc\\src\\resize.cpp:4051: error: (-215:Assertion failed) !ssize.empty() in function 'cv::resize'\n"
     ]
    }
   ],
   "source": [
    "train = []\n",
    "target = []\n",
    "train_1 = []\n",
    "train_0 = []\n",
    "list_a = a.split()\n",
    "\n",
    "mypath = 'C:/Users/Tingchun.TC.Hung/Desktop/Record/PCR Electrophoresis/PCR_primer_multi/All_pic'\n",
    "for root, dirs, files in walk(mypath):\n",
    "    for file in files:\n",
    "#         print(mypath+\"/\"+file)\n",
    "        img = cv2.imread(mypath+'/'+file)\n",
    "        img2 = cv2.resize(img, (125,125), interpolation=cv2.INTER_CUBIC)\n",
    "        if file in label_1_data:\n",
    "            train_1.append(img2)\n",
    "            train.append(img2)\n",
    "            target.append(1)\n",
    "        else:\n",
    "            train_0.append(img2)\n",
    "            train.append(img2)\n",
    "            target.append(0)\n",
    "            count_times+=1"
   ]
  },
  {
   "cell_type": "raw",
   "metadata": {},
   "source": [
    "train = []\n",
    "target = []"
   ]
  },
  {
   "cell_type": "raw",
   "metadata": {},
   "source": [
    "mypath = model_path+'Detect_trainning_data/1'\n",
    "train_1 = []\n",
    "\n",
    "for root, dirs, files in walk(mypath):\n",
    "    for file in files:\n",
    "        img = cv2.imread(mypath+\"/\"+file)\n",
    "        img2 = cv2.resize(img, (125,125), interpolation=cv2.INTER_CUBIC) \n",
    "        train_1.append(img2)\n",
    "        train.append(img2)\n",
    "        target.append(1)"
   ]
  },
  {
   "cell_type": "raw",
   "metadata": {},
   "source": [
    "mypath = model_path+'Detect_trainning_data/0'\n",
    "train_0 = []\n",
    "\n",
    "for root, dirs, files in walk(mypath):\n",
    "    for file in files:\n",
    "        img = cv2.imread(mypath+\"/\"+file)\n",
    "        img2 = cv2.resize(img, (125,125), interpolation=cv2.INTER_CUBIC) \n",
    "        train_0.append(img2)\n",
    "        train.append(img2)\n",
    "        target.append(0)"
   ]
  },
  {
   "cell_type": "code",
   "execution_count": 143,
   "metadata": {},
   "outputs": [
    {
     "data": {
      "text/plain": [
       "352"
      ]
     },
     "execution_count": 143,
     "metadata": {},
     "output_type": "execute_result"
    }
   ],
   "source": [
    "len(train)"
   ]
  },
  {
   "cell_type": "code",
   "execution_count": 144,
   "metadata": {},
   "outputs": [
    {
     "data": {
      "text/plain": [
       "81"
      ]
     },
     "execution_count": 144,
     "metadata": {},
     "output_type": "execute_result"
    }
   ],
   "source": [
    "len(train_1)"
   ]
  },
  {
   "cell_type": "code",
   "execution_count": 145,
   "metadata": {},
   "outputs": [
    {
     "data": {
      "text/plain": [
       "271"
      ]
     },
     "execution_count": 145,
     "metadata": {},
     "output_type": "execute_result"
    }
   ],
   "source": [
    "len(train_0)"
   ]
  },
  {
   "cell_type": "code",
   "execution_count": 136,
   "metadata": {},
   "outputs": [
    {
     "name": "stdout",
     "output_type": "stream",
     "text": [
      "x_train_image: (113, 125, 125, 3)\n",
      "y_train_label: (113,)\n",
      "\n",
      "x_test_image: (49, 125, 125, 3)\n",
      "y_test_label: (49,)\n"
     ]
    }
   ],
   "source": [
    "#資料切割與訓練\n",
    "\n",
    "from sklearn.model_selection import train_test_split\n",
    "x_Train,x_Test,y_Train,y_Test = train_test_split(train,target,test_size=0.3,random_state=33)\n",
    "print('x_train_image:',np.shape(x_Train))\n",
    "print('y_train_label:',np.shape(y_Train))\n",
    "print()\n",
    "print('x_test_image:',np.shape(x_Test))\n",
    "print('y_test_label:',np.shape(y_Test))\n",
    "import matplotlib.pyplot as plt\n",
    "def plot_image(image):\n",
    "    fig = plt.gcf()\n",
    "    fig.set_size_inches(2, 2)\n",
    "    plt.imshow(image, cmap='binary')\n",
    "    plt.show()"
   ]
  },
  {
   "cell_type": "code",
   "execution_count": 137,
   "metadata": {},
   "outputs": [],
   "source": [
    "import matplotlib.pyplot as plt\n",
    "def plot_images_labels_prediction(images,labels,prediction,idx,num=10):\n",
    "    fig = plt.gcf()\n",
    "    fig.set_size_inches(12, 14)\n",
    "    if num>25: num=25 \n",
    "    for i in range(0, num):\n",
    "        ax=plt.subplot(5,5, 1+i)\n",
    "        ax.imshow(images[idx], cmap='binary')\n",
    "        title= \"label=\" +str(labels[idx])\n",
    "        if len(prediction)>0:\n",
    "            title+=\",predict=\"+str(prediction[idx]) \n",
    "            \n",
    "        ax.set_title(title,fontsize=10) \n",
    "        ax.set_xticks([]);ax.set_yticks([])        \n",
    "        idx+=1 \n",
    "    plt.show()"
   ]
  },
  {
   "cell_type": "code",
   "execution_count": 138,
   "metadata": {},
   "outputs": [
    {
     "data": {
      "image/png": "[encoded data removed]",
      "text/plain": [
       "<Figure size 864x1008 with 10 Axes>"
      ]
     },
     "metadata": {},
     "output_type": "display_data"
    }
   ],
   "source": [
    "plot_images_labels_prediction(x_Train,y_Train,[],0,10)"
   ]
  },
  {
   "cell_type": "code",
   "execution_count": 139,
   "metadata": {},
   "outputs": [
    {
     "name": "stdout",
     "output_type": "stream",
     "text": [
      "<class 'list'>\n",
      "<class 'numpy.ndarray'>\n"
     ]
    }
   ],
   "source": [
    "print(type(x_Train))\n",
    "x_Train=np.array(x_Train)\n",
    "y_Train=np.array(y_Train)\n",
    "x_Test=np.array(x_Test)\n",
    "x_Test=np.array(x_Test)\n",
    "print(type(x_Train))\n",
    "x_Train4D=x_Train.reshape(x_Train.shape[0],125,125,3).astype('float32')\n",
    "x_Test4D=x_Test.reshape(x_Test.shape[0],125,125,3).astype('float32')\n",
    "x_Train4D=np.delete(x_Train4D, [1,2], axis=3)\n",
    "x_Test4D=np.delete(x_Test4D, [1,2], axis=3)\n",
    "x_Train=np.delete(x_Train, [1,2], axis=3)\n",
    "x_Test=np.delete(x_Test, [1,2], axis=3)\n",
    "x_Train4D_normalize = x_Train / 255\n",
    "x_Test4D_normalize = x_Test / 255\n",
    "x_Train4D_normalize.shape\n",
    "from keras.utils import np_utils\n",
    "y_TrainOneHot = np_utils.to_categorical(y_Train)\n",
    "y_TestOneHot = np_utils.to_categorical(y_Test)"
   ]
  },
  {
   "cell_type": "code",
   "execution_count": 140,
   "metadata": {},
   "outputs": [],
   "source": [
    "from keras.models import Sequential\n",
    "from keras.layers import Dense,Dropout,Flatten,Conv2D,MaxPooling2D"
   ]
  },
  {
   "cell_type": "code",
   "execution_count": 141,
   "metadata": {},
   "outputs": [
    {
     "name": "stdout",
     "output_type": "stream",
     "text": [
      "_________________________________________________________________\n",
      "Layer (type)                 Output Shape              Param #   \n",
      "=================================================================\n",
      "conv2d_5 (Conv2D)            (None, 125, 125, 16)      416       \n",
      "_________________________________________________________________\n",
      "max_pooling2d_5 (MaxPooling2 (None, 62, 62, 16)        0         \n",
      "_________________________________________________________________\n",
      "conv2d_6 (Conv2D)            (None, 62, 62, 36)        14436     \n",
      "_________________________________________________________________\n",
      "max_pooling2d_6 (MaxPooling2 (None, 31, 31, 36)        0         \n",
      "_________________________________________________________________\n",
      "dropout_5 (Dropout)          (None, 31, 31, 36)        0         \n",
      "_________________________________________________________________\n",
      "flatten_3 (Flatten)          (None, 34596)             0         \n",
      "_________________________________________________________________\n",
      "dense_5 (Dense)              (None, 128)               4428416   \n",
      "_________________________________________________________________\n",
      "dropout_6 (Dropout)          (None, 128)               0         \n",
      "_________________________________________________________________\n",
      "dense_6 (Dense)              (None, 2)                 258       \n",
      "=================================================================\n",
      "Total params: 4,443,526\n",
      "Trainable params: 4,443,526\n",
      "Non-trainable params: 0\n",
      "_________________________________________________________________\n",
      "None\n"
     ]
    }
   ],
   "source": [
    "model = Sequential()\n",
    "#filter為16, Kernel size為(5,5),Padding為(same)\n",
    "model.add(Conv2D(filters=16,\n",
    "                 kernel_size=(5,5),\n",
    "                 padding='same',\n",
    "                 input_shape=(125,125,1), \n",
    "                 activation='relu'))\n",
    "# MaxPooling size為(2,2)\n",
    "model.add(MaxPooling2D(pool_size=(2, 2)))\n",
    "model.add(Conv2D(filters=36,\n",
    "                 kernel_size=(5,5),\n",
    "                 padding='same',\n",
    "                 activation='relu'))\n",
    "model.add(MaxPooling2D(pool_size=(2, 2)))\n",
    "# Drop掉部分神經元避免overfitting\n",
    "model.add(Dropout(0.25))\n",
    "# 平坦化\n",
    "model.add(Flatten())\n",
    "model.add(Dense(128, activation='relu'))#回歸用\n",
    "model.add(Dropout(0.5))\n",
    "model.add(Dense(2,activation='softmax'))#分類用\n",
    "print(model.summary())\n",
    "model.compile(loss='categorical_crossentropy', optimizer='adam',metrics=['accuracy']) #sparse_categorical_crossentropy categorical_crossentropy"
   ]
  },
  {
   "cell_type": "code",
   "execution_count": 100,
   "metadata": {},
   "outputs": [
    {
     "name": "stdout",
     "output_type": "stream",
     "text": [
      "Train on 90 samples, validate on 23 samples\n",
      "Epoch 1/100\n",
      " - 1s - loss: 0.2676 - acc: 0.8667 - val_loss: 0.7503 - val_acc: 0.5217\n",
      "Epoch 2/100\n",
      " - 1s - loss: 0.3874 - acc: 0.8111 - val_loss: 1.1221 - val_acc: 0.5652\n",
      "Epoch 3/100\n",
      " - 1s - loss: 0.4197 - acc: 0.8222 - val_loss: 1.1345 - val_acc: 0.5217\n",
      "Epoch 4/100\n",
      " - 1s - loss: 0.4248 - acc: 0.7889 - val_loss: 0.8277 - val_acc: 0.6087\n",
      "Epoch 5/100\n",
      " - 1s - loss: 0.2797 - acc: 0.8556 - val_loss: 0.6521 - val_acc: 0.5652\n",
      "Epoch 6/100\n",
      " - 1s - loss: 0.2054 - acc: 0.9333 - val_loss: 0.7225 - val_acc: 0.5217\n",
      "Epoch 7/100\n",
      " - 1s - loss: 0.2984 - acc: 0.9000 - val_loss: 0.6898 - val_acc: 0.6522\n",
      "Epoch 8/100\n",
      " - 1s - loss: 0.2148 - acc: 0.9444 - val_loss: 0.6971 - val_acc: 0.5652\n",
      "Epoch 9/100\n",
      " - 1s - loss: 0.1560 - acc: 0.9778 - val_loss: 0.8456 - val_acc: 0.6522\n",
      "Epoch 10/100\n",
      " - 1s - loss: 0.2353 - acc: 0.8889 - val_loss: 0.7523 - val_acc: 0.6522\n",
      "Epoch 11/100\n",
      " - 1s - loss: 0.1298 - acc: 0.9556 - val_loss: 0.7831 - val_acc: 0.6522\n",
      "Epoch 12/100\n",
      " - 1s - loss: 0.1383 - acc: 0.9778 - val_loss: 0.8600 - val_acc: 0.6522\n",
      "Epoch 13/100\n",
      " - 1s - loss: 0.1063 - acc: 0.9444 - val_loss: 0.9021 - val_acc: 0.6087\n",
      "Epoch 14/100\n",
      " - 1s - loss: 0.0862 - acc: 0.9889 - val_loss: 0.8234 - val_acc: 0.6087\n",
      "Epoch 15/100\n",
      " - 1s - loss: 0.0745 - acc: 0.9889 - val_loss: 0.8470 - val_acc: 0.6087\n",
      "Epoch 16/100\n",
      " - 1s - loss: 0.0957 - acc: 0.9889 - val_loss: 0.8622 - val_acc: 0.6087\n",
      "Epoch 17/100\n",
      " - 1s - loss: 0.0778 - acc: 0.9667 - val_loss: 0.9627 - val_acc: 0.6087\n",
      "Epoch 18/100\n",
      " - 1s - loss: 0.0584 - acc: 1.0000 - val_loss: 1.0679 - val_acc: 0.6087\n",
      "Epoch 19/100\n",
      " - 1s - loss: 0.0610 - acc: 0.9889 - val_loss: 0.9391 - val_acc: 0.6522\n",
      "Epoch 20/100\n",
      " - 1s - loss: 0.0503 - acc: 1.0000 - val_loss: 0.9296 - val_acc: 0.6087\n",
      "Epoch 21/100\n",
      " - 1s - loss: 0.0497 - acc: 0.9889 - val_loss: 0.9297 - val_acc: 0.6087\n",
      "Epoch 22/100\n",
      " - 1s - loss: 0.0564 - acc: 0.9889 - val_loss: 0.9472 - val_acc: 0.6957\n",
      "Epoch 23/100\n",
      " - 1s - loss: 0.0366 - acc: 1.0000 - val_loss: 1.0146 - val_acc: 0.6522\n",
      "Epoch 24/100\n",
      " - 1s - loss: 0.0273 - acc: 1.0000 - val_loss: 1.0529 - val_acc: 0.6522\n",
      "Epoch 25/100\n",
      " - 1s - loss: 0.0286 - acc: 0.9889 - val_loss: 0.9696 - val_acc: 0.6957\n",
      "Epoch 26/100\n",
      " - 1s - loss: 0.0177 - acc: 1.0000 - val_loss: 0.9460 - val_acc: 0.6087\n",
      "Epoch 27/100\n",
      " - 1s - loss: 0.0133 - acc: 1.0000 - val_loss: 0.9632 - val_acc: 0.6087\n",
      "Epoch 28/100\n",
      " - 1s - loss: 0.0153 - acc: 1.0000 - val_loss: 0.9769 - val_acc: 0.6087\n",
      "Epoch 29/100\n",
      " - 1s - loss: 0.0216 - acc: 1.0000 - val_loss: 0.9588 - val_acc: 0.6087\n",
      "Epoch 30/100\n",
      " - 1s - loss: 0.0149 - acc: 1.0000 - val_loss: 0.9708 - val_acc: 0.6957\n",
      "Epoch 31/100\n",
      " - 1s - loss: 0.0067 - acc: 1.0000 - val_loss: 1.0210 - val_acc: 0.7391\n",
      "Epoch 32/100\n",
      " - 1s - loss: 0.0144 - acc: 1.0000 - val_loss: 1.0128 - val_acc: 0.7826\n",
      "Epoch 33/100\n",
      " - 1s - loss: 0.0122 - acc: 1.0000 - val_loss: 0.9736 - val_acc: 0.6957\n",
      "Epoch 34/100\n",
      " - 1s - loss: 0.0065 - acc: 1.0000 - val_loss: 0.9509 - val_acc: 0.6957\n",
      "Epoch 35/100\n",
      " - 1s - loss: 0.0094 - acc: 1.0000 - val_loss: 0.9394 - val_acc: 0.6522\n",
      "Epoch 36/100\n",
      " - 1s - loss: 0.0068 - acc: 1.0000 - val_loss: 0.9536 - val_acc: 0.6087\n",
      "Epoch 37/100\n",
      " - 1s - loss: 0.0070 - acc: 1.0000 - val_loss: 0.9841 - val_acc: 0.6957\n",
      "Epoch 38/100\n",
      " - 1s - loss: 0.0056 - acc: 1.0000 - val_loss: 1.0225 - val_acc: 0.6957\n",
      "Epoch 39/100\n",
      " - 1s - loss: 0.0075 - acc: 1.0000 - val_loss: 1.0433 - val_acc: 0.6957\n",
      "Epoch 40/100\n",
      " - 1s - loss: 0.0059 - acc: 1.0000 - val_loss: 1.0432 - val_acc: 0.6957\n",
      "Epoch 41/100\n",
      " - 1s - loss: 0.0036 - acc: 1.0000 - val_loss: 1.0365 - val_acc: 0.7391\n",
      "Epoch 42/100\n",
      " - 1s - loss: 0.0020 - acc: 1.0000 - val_loss: 1.0328 - val_acc: 0.6957\n",
      "Epoch 43/100\n",
      " - 1s - loss: 0.0028 - acc: 1.0000 - val_loss: 1.0402 - val_acc: 0.6522\n",
      "Epoch 44/100\n",
      " - 1s - loss: 0.0028 - acc: 1.0000 - val_loss: 1.0617 - val_acc: 0.6957\n",
      "Epoch 45/100\n",
      " - 1s - loss: 0.0016 - acc: 1.0000 - val_loss: 1.0955 - val_acc: 0.7391\n",
      "Epoch 46/100\n",
      " - 1s - loss: 0.0063 - acc: 1.0000 - val_loss: 1.1617 - val_acc: 0.7391\n",
      "Epoch 47/100\n",
      " - 1s - loss: 0.0021 - acc: 1.0000 - val_loss: 1.2276 - val_acc: 0.7391\n",
      "Epoch 48/100\n",
      " - 1s - loss: 0.0050 - acc: 1.0000 - val_loss: 1.2197 - val_acc: 0.7391\n",
      "Epoch 49/100\n",
      " - 1s - loss: 0.0025 - acc: 1.0000 - val_loss: 1.1882 - val_acc: 0.7391\n",
      "Epoch 50/100\n",
      " - 1s - loss: 0.0018 - acc: 1.0000 - val_loss: 1.1402 - val_acc: 0.7826\n",
      "Epoch 51/100\n",
      " - 1s - loss: 0.0023 - acc: 1.0000 - val_loss: 1.0937 - val_acc: 0.6957\n",
      "Epoch 52/100\n",
      " - 1s - loss: 0.0022 - acc: 1.0000 - val_loss: 1.0668 - val_acc: 0.6522\n",
      "Epoch 53/100\n",
      " - 1s - loss: 0.0020 - acc: 1.0000 - val_loss: 1.0621 - val_acc: 0.6957\n",
      "Epoch 54/100\n",
      " - 1s - loss: 0.0039 - acc: 1.0000 - val_loss: 1.0835 - val_acc: 0.6957\n",
      "Epoch 55/100\n",
      " - 1s - loss: 0.0022 - acc: 1.0000 - val_loss: 1.1257 - val_acc: 0.7391\n",
      "Epoch 56/100\n",
      " - 1s - loss: 0.0024 - acc: 1.0000 - val_loss: 1.1732 - val_acc: 0.7391\n",
      "Epoch 57/100\n",
      " - 1s - loss: 0.0051 - acc: 1.0000 - val_loss: 1.1093 - val_acc: 0.7391\n",
      "Epoch 58/100\n",
      " - 1s - loss: 0.0022 - acc: 1.0000 - val_loss: 1.0637 - val_acc: 0.7391\n",
      "Epoch 59/100\n",
      " - 1s - loss: 0.0011 - acc: 1.0000 - val_loss: 1.0334 - val_acc: 0.6957\n",
      "Epoch 60/100\n",
      " - 1s - loss: 0.0028 - acc: 1.0000 - val_loss: 1.0058 - val_acc: 0.6957\n",
      "Epoch 61/100\n",
      " - 1s - loss: 0.0029 - acc: 1.0000 - val_loss: 0.9957 - val_acc: 0.7391\n",
      "Epoch 62/100\n",
      " - 1s - loss: 0.0015 - acc: 1.0000 - val_loss: 1.0031 - val_acc: 0.6957\n",
      "Epoch 63/100\n",
      " - 1s - loss: 0.0016 - acc: 1.0000 - val_loss: 1.0223 - val_acc: 0.7391\n",
      "Epoch 64/100\n",
      " - 1s - loss: 0.0031 - acc: 1.0000 - val_loss: 1.0417 - val_acc: 0.7391\n",
      "Epoch 65/100\n",
      " - 1s - loss: 0.0018 - acc: 1.0000 - val_loss: 1.0647 - val_acc: 0.7391\n",
      "Epoch 66/100\n",
      " - 1s - loss: 9.0415e-04 - acc: 1.0000 - val_loss: 1.0902 - val_acc: 0.7391\n",
      "Epoch 67/100\n",
      " - 1s - loss: 0.0010 - acc: 1.0000 - val_loss: 1.1121 - val_acc: 0.7391\n",
      "Epoch 68/100\n",
      " - 1s - loss: 0.0010 - acc: 1.0000 - val_loss: 1.1301 - val_acc: 0.7391\n",
      "Epoch 69/100\n",
      " - 1s - loss: 0.0016 - acc: 1.0000 - val_loss: 1.1420 - val_acc: 0.7391\n",
      "Epoch 70/100\n",
      " - 1s - loss: 9.3130e-04 - acc: 1.0000 - val_loss: 1.1490 - val_acc: 0.7391\n",
      "Epoch 71/100\n",
      " - 1s - loss: 0.0015 - acc: 1.0000 - val_loss: 1.1444 - val_acc: 0.7391\n",
      "Epoch 72/100\n",
      " - 1s - loss: 5.8900e-04 - acc: 1.0000 - val_loss: 1.1476 - val_acc: 0.7391\n",
      "Epoch 73/100\n",
      " - 1s - loss: 0.0015 - acc: 1.0000 - val_loss: 1.1597 - val_acc: 0.7391\n",
      "Epoch 74/100\n",
      " - 1s - loss: 0.0031 - acc: 1.0000 - val_loss: 1.1787 - val_acc: 0.7391\n",
      "Epoch 75/100\n",
      " - 1s - loss: 0.0012 - acc: 1.0000 - val_loss: 1.2110 - val_acc: 0.7391\n",
      "Epoch 76/100\n",
      " - 1s - loss: 0.0022 - acc: 1.0000 - val_loss: 1.2340 - val_acc: 0.7391\n",
      "Epoch 77/100\n",
      " - 1s - loss: 0.0012 - acc: 1.0000 - val_loss: 1.2466 - val_acc: 0.7391\n",
      "Epoch 78/100\n",
      " - 1s - loss: 0.0018 - acc: 1.0000 - val_loss: 1.2357 - val_acc: 0.6957\n",
      "Epoch 79/100\n",
      " - 1s - loss: 0.0016 - acc: 1.0000 - val_loss: 1.2153 - val_acc: 0.6957\n",
      "Epoch 80/100\n",
      " - 1s - loss: 0.0010 - acc: 1.0000 - val_loss: 1.2032 - val_acc: 0.6957\n",
      "Epoch 81/100\n",
      " - 1s - loss: 8.6770e-04 - acc: 1.0000 - val_loss: 1.1969 - val_acc: 0.7391\n",
      "Epoch 82/100\n",
      " - 1s - loss: 0.0012 - acc: 1.0000 - val_loss: 1.1941 - val_acc: 0.6957\n",
      "Epoch 83/100\n",
      " - 1s - loss: 5.0257e-04 - acc: 1.0000 - val_loss: 1.1941 - val_acc: 0.6957\n",
      "Epoch 84/100\n",
      " - 1s - loss: 8.3150e-04 - acc: 1.0000 - val_loss: 1.1966 - val_acc: 0.6957\n",
      "Epoch 85/100\n",
      " - 1s - loss: 7.2546e-04 - acc: 1.0000 - val_loss: 1.2014 - val_acc: 0.6957\n",
      "Epoch 86/100\n",
      " - 1s - loss: 2.6643e-04 - acc: 1.0000 - val_loss: 1.2065 - val_acc: 0.6522\n",
      "Epoch 87/100\n",
      " - 1s - loss: 0.0011 - acc: 1.0000 - val_loss: 1.2121 - val_acc: 0.6522\n",
      "Epoch 88/100\n",
      " - 1s - loss: 6.1075e-04 - acc: 1.0000 - val_loss: 1.2182 - val_acc: 0.6957\n",
      "Epoch 89/100\n",
      " - 1s - loss: 4.1041e-04 - acc: 1.0000 - val_loss: 1.2251 - val_acc: 0.6957\n",
      "Epoch 90/100\n",
      " - 1s - loss: 8.2370e-04 - acc: 1.0000 - val_loss: 1.2338 - val_acc: 0.6957\n",
      "Epoch 91/100\n",
      " - 1s - loss: 4.3424e-04 - acc: 1.0000 - val_loss: 1.2438 - val_acc: 0.6957\n",
      "Epoch 92/100\n",
      " - 1s - loss: 5.1261e-04 - acc: 1.0000 - val_loss: 1.2548 - val_acc: 0.6957\n",
      "Epoch 93/100\n",
      " - 1s - loss: 4.4030e-04 - acc: 1.0000 - val_loss: 1.2659 - val_acc: 0.6957\n",
      "Epoch 94/100\n",
      " - 1s - loss: 2.5791e-04 - acc: 1.0000 - val_loss: 1.2769 - val_acc: 0.6957\n",
      "Epoch 95/100\n",
      " - 1s - loss: 2.4678e-04 - acc: 1.0000 - val_loss: 1.2875 - val_acc: 0.6957\n",
      "Epoch 96/100\n",
      " - 1s - loss: 2.3337e-04 - acc: 1.0000 - val_loss: 1.2975 - val_acc: 0.6957\n",
      "Epoch 97/100\n",
      " - 1s - loss: 3.2744e-04 - acc: 1.0000 - val_loss: 1.3072 - val_acc: 0.7391\n",
      "Epoch 98/100\n",
      " - 1s - loss: 1.5400e-04 - acc: 1.0000 - val_loss: 1.3165 - val_acc: 0.7391\n",
      "Epoch 99/100\n",
      " - 1s - loss: 3.1919e-04 - acc: 1.0000 - val_loss: 1.3252 - val_acc: 0.7391\n",
      "Epoch 100/100\n",
      " - 1s - loss: 1.2961e-04 - acc: 1.0000 - val_loss: 1.3335 - val_acc: 0.7391\n"
     ]
    }
   ],
   "source": [
    "#Model訓練\n",
    "train_history=model.fit(x=x_Train4D_normalize, y=y_TrainOneHot,validation_split=0.2, epochs=100, batch_size=100,verbose=2)\n",
    "#存model\n",
    "# model.save(model_path+\"detect_model.h5\") #face_weight.h5/face_weight_4.h5 face_weight_418"
   ]
  },
  {
   "cell_type": "code",
   "execution_count": 101,
   "metadata": {},
   "outputs": [],
   "source": [
    "from numpy import argmax\n",
    "from sklearn.preprocessing import LabelEncoder\n",
    "\n",
    "prediction_proba=model.predict(x_Test4D_normalize)\n",
    "prediction = argmax(prediction_proba,axis=1)"
   ]
  },
  {
   "cell_type": "code",
   "execution_count": 102,
   "metadata": {},
   "outputs": [
    {
     "name": "stdout",
     "output_type": "stream",
     "text": [
      "              precision    recall  f1-score   support\n",
      "\n",
      "           0       0.39      0.71      0.50        17\n",
      "           1       0.72      0.41      0.52        32\n",
      "\n",
      "    accuracy                           0.51        49\n",
      "   macro avg       0.55      0.56      0.51        49\n",
      "weighted avg       0.61      0.51      0.51        49\n",
      "\n"
     ]
    }
   ],
   "source": [
    "from sklearn.metrics import classification_report\n",
    "print(classification_report(y_Test, prediction))"
   ]
  },
  {
   "cell_type": "code",
   "execution_count": null,
   "metadata": {},
   "outputs": [],
   "source": []
  },
  {
   "cell_type": "code",
   "execution_count": null,
   "metadata": {},
   "outputs": [],
   "source": []
  }
 ],
 "metadata": {
  "kernelspec": {
   "display_name": "NLP",
   "language": "python",
   "name": "nlp"
  },
  "language_info": {
   "codemirror_mode": {
    "name": "ipython",
    "version": 3
   },
   "file_extension": ".py",
   "mimetype": "text/x-python",
   "name": "python",
   "nbconvert_exporter": "python",
   "pygments_lexer": "ipython3",
   "version": "3.6.12"
  }
 },
 "nbformat": 4,
 "nbformat_minor": 4
}
